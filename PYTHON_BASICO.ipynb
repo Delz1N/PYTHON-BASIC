{
  "cells": [
    {
      "cell_type": "markdown",
      "metadata": {
        "id": "view-in-github",
        "colab_type": "text"
      },
      "source": [
        "<a href=\"https://colab.research.google.com/github/Delz1N/PYTHON-BASIC/blob/main/PYTHON_BASICO.ipynb\" target=\"_parent\"><img src=\"https://colab.research.google.com/assets/colab-badge.svg\" alt=\"Open In Colab\"/></a>"
      ]
    },
    {
      "cell_type": "markdown",
      "metadata": {
        "id": "GhMdVJrgzgik"
      },
      "source": [
        "# PYTHON BASICO"
      ]
    },
    {
      "cell_type": "markdown",
      "metadata": {
        "id": "9DoWkVFokvW4"
      },
      "source": [
        "## CADENAS DE CARACTERES EN PYTHON (STRINGS)\n",
        "\n"
      ]
    },
    {
      "cell_type": "markdown",
      "metadata": {
        "id": "wGhGsp-Ayynm"
      },
      "source": [
        "*   Asignación\n",
        "*   Concatenación\n",
        "*   La busqueda\n",
        "*   La extracción\n",
        "*   La comparación"
      ]
    },
    {
      "cell_type": "code",
      "execution_count": null,
      "metadata": {
        "colab": {
          "base_uri": "https://localhost:8080/"
        },
        "id": "5tKJ7R3bhm5u",
        "outputId": "90d14cf6-ee52-4c98-b17f-827ee619adf6"
      },
      "outputs": [
        {
          "name": "stdout",
          "output_type": "stream",
          "text": [
            "Hola delsin\n"
          ]
        }
      ],
      "source": [
        "# ASIGNACIÓN -- Se usa para asignar una cadena de caracteres a otra. se utiliza +=\n",
        "\n",
        "mensaje = \"Hola\"\n",
        "mensaje += \" \"\n",
        "mensaje += \"delsin\"\n",
        "print(mensaje)"
      ]
    },
    {
      "cell_type": "code",
      "execution_count": null,
      "metadata": {
        "colab": {
          "base_uri": "https://localhost:8080/"
        },
        "id": "TyVs6PLOifUU",
        "outputId": "2cd6721c-f68a-4b5b-96b2-b1b29c3d0645"
      },
      "outputs": [
        {
          "name": "stdout",
          "output_type": "stream",
          "text": [
            "Hola Delsin\n",
            "el resultado es 6\n"
          ]
        }
      ],
      "source": [
        "# CONCATENACIÓN - Se usa para unir dos cadenas o mas, para formar una cadena de mayor tamaño. se representa con un +\n",
        "\n",
        "mensaje = \"Hola\"\n",
        "espacio = \" \"\n",
        "nombre = \"Delsin\"\n",
        "print(mensaje + espacio + nombre)\n",
        "\n",
        "#Concatenacion de variable numerica\n",
        "numero_uno = 2\n",
        "numero_dos = 4\n",
        "resultado = numero_uno + numero_dos\n",
        "resultado = str(resultado) # cambiar el tipo de variable a string\n",
        "print(\"el resultado es \" + resultado)\n"
      ]
    },
    {
      "cell_type": "code",
      "execution_count": null,
      "metadata": {
        "colab": {
          "base_uri": "https://localhost:8080/"
        },
        "id": "0qaUKp6qlJ0J",
        "outputId": "bdec54fd-8a35-454a-db97-8094cda79ed7"
      },
      "outputs": [
        {
          "name": "stdout",
          "output_type": "stream",
          "text": [
            "5\n"
          ]
        }
      ],
      "source": [
        "# Busqueda\n",
        "\n",
        "mensaje = \"Hola delsin\" # Creo que se coloca comillas cuando es texto\n",
        "buscar_subcadena = mensaje. find(\"delsin\")     # Codigo para encontrar una subcadena de caracteres \n",
        "print(buscar_subcadena) # En que posicion se encuentra la subcadena"
      ]
    },
    {
      "cell_type": "code",
      "execution_count": null,
      "metadata": {
        "colab": {
          "base_uri": "https://localhost:8080/"
        },
        "id": "JNnRggAgm49j",
        "outputId": "a15405f5-21e3-4758-a455-6a84fe8f95cf"
      },
      "outputs": [
        {
          "name": "stdout",
          "output_type": "stream",
          "text": [
            "ola Del\n"
          ]
        }
      ],
      "source": [
        "# Extracción -- Se trata de sacar fuera de una cadena, una porcion de la misma segun su posicion dentro de ella. se usa []\n",
        "\n",
        "mensaje = \"Hola Delsin\"\n",
        "extraer_subcadena = mensaje[1:8] # codigo para extraer caracteres. el conteo empieza desde cero y extrae uno antes del final \n",
        "print(extraer_subcadena)\n"
      ]
    },
    {
      "cell_type": "code",
      "execution_count": null,
      "metadata": {
        "colab": {
          "base_uri": "https://localhost:8080/"
        },
        "id": "I72-kYh0okQ0",
        "outputId": "2069524e-4a19-4434-eb56-62cd6cfc991e"
      },
      "outputs": [
        {
          "name": "stdout",
          "output_type": "stream",
          "text": [
            "True\n",
            "False\n"
          ]
        }
      ],
      "source": [
        "# Comparación -- Se utiliza para comparar dos cadenas de caracteres. se usa ==\n",
        "\n",
        "mensaje_uno = \"delsin\" \n",
        "mensaje_dos = \"delsin\"  # codigo para caso verdadero\n",
        "mensaje_uno == mensaje_dos\n",
        "print(mensaje_uno == mensaje_dos)\n",
        "\n",
        "mensaje_uno = \"delsin\" \n",
        "mensaje_dos = \"deybis\"  # codigo para caso falso\n",
        "mensaje_uno == mensaje_dos\n",
        "print(mensaje_uno == mensaje_dos)"
      ]
    },
    {
      "cell_type": "markdown",
      "metadata": {
        "id": "34Ce6X5Trtvw"
      },
      "source": [
        "## PALABRAS RESERVAS\n"
      ]
    },
    {
      "cell_type": "markdown",
      "metadata": {
        "id": "R3Qz7AlztlWy"
      },
      "source": [
        "Al intentar utilizar algunas de estas palabras reservadas fuera del uso que tienen asignando, lo que obtendremos sera un error de copilacion y nuestro programa no podra ser ejecutado.\n",
        "\n",
        "Existen un total de 28 palabras reservadas. Que son usadas para el lenguaje de programacion de python.\n",
        "\n",
        "and - del - for - is - raise - assert - if - else - elif - from - lambda - return - break - global - not - try - class - except - or - while - continue - exec - import - yield - def - finally - in - print"
      ]
    },
    {
      "cell_type": "markdown",
      "metadata": {
        "id": "eg2HD8jRtJzX"
      },
      "source": [
        "No podemos usar la palabra: \"print\", pero como en python se diferencia por mayuculas, se puede usar Print para declararla como variable."
      ]
    },
    {
      "cell_type": "code",
      "execution_count": null,
      "metadata": {
        "colab": {
          "base_uri": "https://localhost:8080/"
        },
        "id": "7oLjaRdBtadu",
        "outputId": "a5ea774c-8b06-4c62-c2fe-e940cb8158e5"
      },
      "outputs": [
        {
          "name": "stdout",
          "output_type": "stream",
          "text": [
            "6\n"
          ]
        }
      ],
      "source": [
        "Print = 6 # Codigo para usar palabra no declarada\n",
        "print(Print)"
      ]
    },
    {
      "cell_type": "markdown",
      "metadata": {
        "id": "R7fcI2aFt2rW"
      },
      "source": [
        "## LOS OPERADORES ARITMETICOS"
      ]
    },
    {
      "cell_type": "code",
      "execution_count": null,
      "metadata": {
        "colab": {
          "base_uri": "https://localhost:8080/"
        },
        "id": "6G25S2ost8Yr",
        "outputId": "aed8208a-85ae-4b77-e81f-cb6fe385e23c"
      },
      "outputs": [
        {
          "name": "stdout",
          "output_type": "stream",
          "text": [
            "El resultado de la suma es: 11\n",
            "El resultado de la resta es: -1\n",
            "El resultado de la multiplicación es 30\n",
            "El resultado de la potencia es 15625\n",
            "El resultado de la división es 2.0\n",
            "El resultado del modulo o resto es 6\n",
            "El resultado de la division entera es 2\n"
          ]
        }
      ],
      "source": [
        "#SUMA -- se usa + \n",
        "\n",
        "numero_uno = 5\n",
        "numero_dos = 6 # no se usa comillas porque son numeros\n",
        "resultado = numero_uno + numero_dos\n",
        "print(\"El resultado de la suma es: \" + str(resultado)) # Codigo para concatenar su contenido con una cadena de caracteres.  \n",
        "# Como ponemos \"el resultado de la suma es:\" debemos cambiar el resultado numerico a texto con el codigo str\n",
        "\n",
        "#RESTA -- se usa - \n",
        "\n",
        "numero_tres = 5\n",
        "numero_cuatro= 6\n",
        "resultado2 = numero_tres - numero_cuatro\n",
        "print(\"El resultado de la resta es: \" + str(resultado2))\n",
        "\n",
        "#MULTIPLICACION -- se usa * \n",
        "\n",
        "numero_cuatro = 5\n",
        "numero_cinco = 6\n",
        "resultado3 = numero_cuatro * numero_cinco\n",
        "print(\"El resultado de la multiplicación es \" + str(resultado3))\n",
        "\n",
        "#POTENCIA -- se usa **\n",
        "\n",
        "numero_seis = 5 \n",
        "numero_siete = 6\n",
        "resultado4 = numero_seis ** numero_siete\n",
        "print(\"El resultado de la potencia es \" + str(resultado4))\n",
        "\n",
        "#DIVISION -- se usa /\n",
        "\n",
        "numero_ocho = 4\n",
        "numero_nueve = 2\n",
        "resultado5 = numero_ocho / numero_nueve\n",
        "print(\"El resultado de la división es \" + str(resultado5))\n",
        "\n",
        "#MODULO O RESTO -- se usa %\n",
        "\n",
        "numero_nueve = 30\n",
        "numero_diez = 8\n",
        "resultado6 = numero_nueve % numero_diez\n",
        "print(\"El resultado del modulo o resto es \" + str(resultado6))\n",
        "\n",
        "#DIVISION ENTERA\n",
        "\n",
        "numero_once = 4\n",
        "numero_doce = 2\n",
        "resultado7 = numero_once // numero_doce # No redondea solo muestra el valor del primer digito de la división. \n",
        "print(\"El resultado de la division entera es \" + str(resultado7))"
      ]
    },
    {
      "cell_type": "code",
      "execution_count": null,
      "metadata": {
        "colab": {
          "base_uri": "https://localhost:8080/"
        },
        "id": "K_2j9x04ucue",
        "outputId": "80df44c5-bcdf-4418-92fa-a75eec41c6d9"
      },
      "outputs": [
        {
          "name": "stdout",
          "output_type": "stream",
          "text": [
            "El resultado de la suma es: 11\n",
            "El resultado de la resta es: -1\n",
            "El resultado de la multiplicación es: 30\n",
            "El resultado de la división es: 0.8333333333333334\n",
            "El resultado de la potencia es: 15625\n"
          ]
        }
      ],
      "source": [
        "numero_uno = 5\n",
        "numero_dos = 6 # no se usa comillas porque son numeros\n",
        "resultado = numero_uno + numero_dos\n",
        "resultado2 = numero_uno - numero_dos\n",
        "resultado3 = numero_uno * numero_dos\n",
        "resultado4 = numero_uno / numero_dos\n",
        "resultado5 = numero_uno ** numero_dos\n",
        "print(\"El resultado de la suma es: \" + str(resultado))\n",
        "print(\"El resultado de la resta es: \" + str(resultado2))\n",
        "print(\"El resultado de la multiplicación es: \" + str(resultado3))\n",
        "print(\"El resultado de la división es: \" + str(resultado4))\n",
        "print(\"El resultado de la potencia es: \" + str(resultado5))"
      ]
    },
    {
      "cell_type": "markdown",
      "metadata": {
        "id": "7E2MF8DNz36_"
      },
      "source": [
        "## COMENTARIOS\n"
      ]
    },
    {
      "cell_type": "code",
      "execution_count": null,
      "metadata": {
        "colab": {
          "base_uri": "https://localhost:8080/"
        },
        "id": "OOz27SJh0Dh3",
        "outputId": "b8405783-1649-4869-8ab1-cd8263c099bd"
      },
      "outputs": [
        {
          "name": "stdout",
          "output_type": "stream",
          "text": [
            "Hola Delsin\n"
          ]
        }
      ],
      "source": [
        "# Practicando los comentarios \n",
        "\" Los comentarios son ignorados por el programa\"\n",
        "\"\"\" Comentario multilinea\n",
        "podemos escribir\n",
        "en varias lineas \n",
        "sin alterar nuestro codigo\"\"\"\n",
        "\n",
        "\n",
        "print(\"Hola Delsin\")"
      ]
    },
    {
      "cell_type": "markdown",
      "metadata": {
        "id": "ID8thcEx0jDr"
      },
      "source": [
        "## LOS TIPOS DE DATOS"
      ]
    },
    {
      "cell_type": "markdown",
      "metadata": {
        "id": "OqnqCbjx0ods"
      },
      "source": [
        "En programación, un tipo de dato, es un atributo de los datos que indica a la computadora y al programador, sobre la clase de datos que se va manejar.\n",
        "\n",
        "*   Enteros y largos\n",
        "*   Flotantes \n",
        "*   Numeros complejos\n",
        "*   Cadenas\n",
        "*   Booleanos"
      ]
    },
    {
      "cell_type": "code",
      "execution_count": null,
      "metadata": {
        "id": "LDO2qtf51New"
      },
      "outputs": [],
      "source": [
        "# Enteros o largos -- Los numeros enteros son aquellos que no tiene decimales. Se representa al entero con (int) al largo con (long)\n",
        "\n",
        "# Flotantes o reales -- Son los que tienen decimales. Se expresa al flotante con (float)\n",
        "\n",
        "# Numeros complejos -- Son aquellos que tienen una parte real y una imaginaria. Se expresa mediante el tipo (complex)\n",
        "\n",
        "# Candenas -- son textos encerrados entre comillas simples. Son conocidas como String\n",
        "\n",
        "# Booleanos -- Solo puede tener dos valores true o false. Se usan especialmente para las expresiones condicionales o bucles. se expresa con (bool)\n"
      ]
    },
    {
      "cell_type": "code",
      "execution_count": null,
      "metadata": {
        "colab": {
          "base_uri": "https://localhost:8080/"
        },
        "id": "skKS8Tt0E-n8",
        "outputId": "961c0c60-a08e-48b7-f74b-c010393460e0"
      },
      "outputs": [
        {
          "name": "stdout",
          "output_type": "stream",
          "text": [
            "15 <class 'int'>\n"
          ]
        }
      ],
      "source": [
        "# Tipo de dato Entero\n",
        "\n",
        "numero = 15 # numero es la variable\n",
        "# type(numero) es el codigo para saber a que tipo de dato pertenece \n",
        "print(numero , type(numero)) # la coma sirve para unir varios variables o datos dentro del parentesis del comando y son separados gracias a la coma\n"
      ]
    },
    {
      "cell_type": "code",
      "execution_count": null,
      "metadata": {
        "colab": {
          "base_uri": "https://localhost:8080/"
        },
        "id": "B_8N4AvFGUcp",
        "outputId": "b125ab72-d34b-4a4a-e5a6-257595152094"
      },
      "outputs": [
        {
          "name": "stdout",
          "output_type": "stream",
          "text": [
            "15.5 <class 'float'>\n"
          ]
        }
      ],
      "source": [
        "# Tipo de dato flotante\n",
        "\n",
        "numero_flotante = 15.5\n",
        "print(numero_flotante, type(numero_flotante))"
      ]
    },
    {
      "cell_type": "code",
      "execution_count": null,
      "metadata": {
        "colab": {
          "base_uri": "https://localhost:8080/"
        },
        "id": "vHDIFlWJHTyJ",
        "outputId": "0104b16c-190f-4744-a7f3-b873ab6612c3"
      },
      "outputs": [
        {
          "name": "stdout",
          "output_type": "stream",
          "text": [
            "(5+6j) <class 'complex'>\n"
          ]
        }
      ],
      "source": [
        "# Tipo de dato complejo\n",
        "\n",
        "numero_complejo = 5 + 6j\n",
        "print(numero_complejo, type(numero_complejo))"
      ]
    },
    {
      "cell_type": "code",
      "execution_count": null,
      "metadata": {
        "colab": {
          "base_uri": "https://localhost:8080/"
        },
        "id": "xFOcmTISHkjV",
        "outputId": "f9f8433d-a2d3-4e31-a263-d26e38df4b3c"
      },
      "outputs": [
        {
          "name": "stdout",
          "output_type": "stream",
          "text": [
            "Delsin <class 'str'>\n"
          ]
        }
      ],
      "source": [
        "# Tipo de dato string\n",
        "\n",
        "nombre = \"Delsin\"\n",
        "print(nombre, type(nombre))"
      ]
    },
    {
      "cell_type": "code",
      "execution_count": null,
      "metadata": {
        "colab": {
          "base_uri": "https://localhost:8080/"
        },
        "id": "ulh73K21IBJ5",
        "outputId": "74cdbc4e-4acb-4079-d98a-dade6a6d8a10"
      },
      "outputs": [
        {
          "name": "stdout",
          "output_type": "stream",
          "text": [
            "True <class 'bool'>\n"
          ]
        }
      ],
      "source": [
        "# Tipo de dato booleano\n",
        "\n",
        "verdadero_falso = 3 == 3\n",
        "print(verdadero_falso, type(verdadero_falso))"
      ]
    },
    {
      "cell_type": "markdown",
      "metadata": {
        "id": "KnVSXX_-IkQS"
      },
      "source": [
        "## ENTRADA DE DATOS DESDE EL TECLADO"
      ]
    },
    {
      "cell_type": "code",
      "execution_count": null,
      "metadata": {
        "colab": {
          "base_uri": "https://localhost:8080/"
        },
        "id": "7IEYnTXHIvww",
        "outputId": "8e4ff79c-2612-4e0c-d778-b5f6613c16c4"
      },
      "outputs": [
        {
          "name": "stdout",
          "output_type": "stream",
          "text": [
            "Introduce una palabra: yoryo\n",
            "Introduce un numero entero: 5\n",
            "Introduce un numero flotante: 5.1\n",
            "Strings:  yoryo\n",
            "Entero  5\n",
            "Flotante  5.1\n"
          ]
        }
      ],
      "source": [
        "palabra = input(\"Introduce una palabra: \")\n",
        "num_int = int(input(\"Introduce un numero entero: \")) # El int permite realizar la conversacion de una cadena de caracteres a un entero\n",
        "numero_float = float(input(\"Introduce un numero flotante: \"))\n",
        "print(\"Strings: \", palabra)\n",
        "print(\"Entero \", num_int)\n",
        "print(\"Flotante \", numero_float)\n"
      ]
    },
    {
      "cell_type": "code",
      "execution_count": null,
      "metadata": {
        "colab": {
          "base_uri": "https://localhost:8080/"
        },
        "id": "mUK6TyjwNYIX",
        "outputId": "4b71d84a-dd42-425b-c867-268fd93ca297"
      },
      "outputs": [
        {
          "name": "stdout",
          "output_type": "stream",
          "text": [
            "¿What is your name?: Delsin\n",
            "Hola Delsin, vamos a realizar una suma.\n",
            "Porfavor, introduce el primer valor: 2\n",
            "Porfavor, introduce el segundo valor: 3\n",
            "Delsin el resultado de la suma es:  5\n"
          ]
        }
      ],
      "source": [
        "nombre = input(\"¿What is your name?: \")\n",
        "print(\"Hola \" + nombre + \", vamos a realizar una suma.\") # Podemos concatenar la variable nombre porque es una cadena de caracteres (str)\n",
        "\n",
        "num_uno = int(input(\"Porfavor, introduce el primer valor: \"))\n",
        "num_dos = int(input(\"Porfavor, introduce el segundo valor: \"))\n",
        "resultado = num_uno + num_dos\n",
        "print(nombre + \" el resultado de la suma es: \", resultado) # Vamos a poner una compa para no concatenar la cadena de caracteres con nuestro valor entero"
      ]
    },
    {
      "cell_type": "markdown",
      "metadata": {
        "id": "9gr1gQxeO_aM"
      },
      "source": [
        "## SENTENCIAS CONDICIONALES SIMPLES"
      ]
    },
    {
      "cell_type": "markdown",
      "metadata": {
        "id": "iYSwSfcmPJXz"
      },
      "source": [
        "Es una instrucción o grupo de instrucciones, que se ejecutan cuando a un programa se le establece una condición lógica. Al cumplirse dicha condición, el programa ejecuta la instrucción que ha sido asignada a esta condición."
      ]
    },
    {
      "cell_type": "code",
      "execution_count": null,
      "metadata": {
        "colab": {
          "base_uri": "https://localhost:8080/"
        },
        "id": "afPPKDXOPGWu",
        "outputId": "05148b3f-7eac-4ed7-88a7-005b132c2f15"
      },
      "outputs": [
        {
          "name": "stdout",
          "output_type": "stream",
          "text": [
            "SISTEMA PARA CALCULAR EL PROMEDIO DE UN ALUMNO\n",
            "What's your name?: delsin\n",
            "delsin, ¿What is your grade in math? 5\n",
            "delsin, ¿What is your grade in chemistry? 6\n",
            "delsin, ¿What is your grade in biology? 7\n",
            "Congratulations delsin \"you approved\" with an average of: 6\n",
            "fin\n"
          ]
        }
      ],
      "source": [
        "# SENTENCIAS CONDICIONALES SIMPLES -- Se usa if\n",
        "\n",
        "titulo = \"SISTEMA PARA CALCULAR EL PROMEDIO DE UN ALUMNO\"\n",
        "print(titulo)\n",
        "\n",
        "nombre = input(\"What's your name?: \")\n",
        "\n",
        "matematica = int(input(nombre + \", ¿What is your grade in math? \"))\n",
        "\n",
        "quimica = int(input(nombre + \", ¿What is your grade in chemistry? \")) # usamos el signo de + para concatenar \n",
        "\n",
        "biologia = int(input(nombre + \", ¿What is your grade in biology? \")) #usamos int para que convierta el dato string a tipo numerico e input para que puedan ingresar datos desde teclado\n",
        "\n",
        "promedio = (matematica + quimica + biologia) / 3\n",
        "promedio = int(promedio) #usamos int para convertir la variable en un numero entero\n",
        "\n",
        "if promedio >= 6: # usamos : para finalizar la condicion\n",
        "  print('Congratulations ' + nombre + ' \"you approved\" with an average of:', promedio) # usamos la comilla simple porque despues usaremos las comillas dobles para una palabra\n",
        "\n",
        "print(\"fin\")\n",
        "\n",
        "\n"
      ]
    },
    {
      "cell_type": "markdown",
      "metadata": {
        "id": "S4azo5bnp4cX"
      },
      "source": [
        "## SENTENCIAS CONDICIONALES COMPUESTAS"
      ]
    },
    {
      "cell_type": "markdown",
      "metadata": {
        "id": "e3POrxCObvs6"
      },
      "source": [
        "Son aquellas que nos permiten tener una instruccion a ejecutar de acuerdo a la condicion establecida. es decir, habra una rama a ejecutar correspondiente a la rama de verdadero y falso.\n",
        "la sentencias condicionales compuestas jamas se ejecutaran de manera simultanea las instrucciones de ambas ramas, unicamente, se ejecutara las instrucciones de la rama verdadero o falso, cuya decision es determinada por la condicion establecida. "
      ]
    },
    {
      "cell_type": "code",
      "execution_count": null,
      "metadata": {
        "colab": {
          "base_uri": "https://localhost:8080/"
        },
        "id": "pr-WgXQUcvNY",
        "outputId": "143c074d-b70e-435b-84f9-3511aebf5acc"
      },
      "outputs": [
        {
          "name": "stdout",
          "output_type": "stream",
          "text": [
            "SISTEMA PARA CALCULAR EL PROMEDIO DEL ALUMNO\n",
            "What's your name?: 6.5\n",
            "6.5, What's your grade in Mathe? 7\n",
            "6.5, What's your grade in Chemistry? 5\n",
            "6.5, What's your grade in Biology? 6.5\n",
            "Congratulations 6.5 \"you approved\" with an average of: 6.17\n",
            "fin\n"
          ]
        }
      ],
      "source": [
        "# SENTENCIAS CONDICIONALES COMPUESTAS -- Se usa if, seguidamente la condicion logica y finalmente cerramos la condicion logica con :\n",
        "                                        # usamos else y agregamos :, los : es para ejecutar una instruccion en caso no se cumpla la condicion logica\n",
        "\n",
        "print(\"SISTEMA PARA CALCULAR EL PROMEDIO DEL ALUMNO\")\n",
        "\n",
        "nombre = input(\"What's your name?: \")\n",
        "\n",
        "matematica = float(input(nombre + \", What's your grade in Mathe? \"))\n",
        "\n",
        "quimica = float(input(nombre + \", What's your grade in Chemistry? \"))\n",
        "\n",
        "biologia = float(input(nombre + \", What's your grade in Biology? \"))\n",
        "\n",
        "promedio = (matematica + quimica + biologia) / 3 # Formula para calcular el promedio\n",
        "\n",
        "if promedio >= 6:\n",
        "  print('Congratulations ' + nombre + ' \"you approved\" with an average of:', round(promedio,2)) # Usamos round para controlar la cantidad de decimales a mostrar.\n",
        "\n",
        "else: \n",
        "  print('Sorry ' + nombre + ' \"you failed\" with an average of:', round(promedio,2)) # usamos la , antes de promedio ya que es una variable flotante y no podemos concatear con variables string\n",
        "\n",
        "print(\"fin\")"
      ]
    },
    {
      "cell_type": "markdown",
      "metadata": {
        "id": "G7jrjib6ns9u"
      },
      "source": [
        "## SENTENCIAS CONDICIONALES MULTIPLES"
      ]
    },
    {
      "cell_type": "markdown",
      "metadata": {
        "id": "wWiXLyRhn1f0"
      },
      "source": [
        "Al utilizar las sentencias condicionales simples y compuestas, nos podemos encontrar con la necesidad de integrar mas de una condicion, a una misma estructura condicional"
      ]
    },
    {
      "cell_type": "code",
      "execution_count": null,
      "metadata": {
        "colab": {
          "base_uri": "https://localhost:8080/"
        },
        "id": "_QsoJZS-nwBV",
        "outputId": "be5e2e90-a8f2-4247-ed04-4f3553070a71"
      },
      "outputs": [
        {
          "name": "stdout",
          "output_type": "stream",
          "text": [
            "CONVERTIRDOR DE NUMERO A LETRAS\n",
            "¿Cual es el numero que deseas convertir: 6\n",
            "Este programa solo puede convertir hasta el numero 5\n",
            "Fin.\n"
          ]
        }
      ],
      "source": [
        "# SENTENCIAS CONDICIONALES MULTIPLES -- Se usa elif y sirve para agregar mas condiciones logicas a la sentencia condicional\n",
        "\n",
        "print(\"CONVERTIRDOR DE NUMERO A LETRAS\")\n",
        "\n",
        "num_uno = int(input(\"¿Cual es el numero que deseas convertir: \"))\n",
        "\n",
        "if num_uno == 1: # ponemos == para que compare \n",
        "  print(\"El numero es 'UNO' \")\n",
        "\n",
        "elif num_uno == 2:\n",
        "  print(\"El numero es 'DOS' \")\n",
        "\n",
        "elif num_uno == 3:\n",
        "  print(\"El numero es 'TRES' \")\n",
        "\n",
        "elif num_uno == 4:\n",
        "  print(\"El numero es 'CUATRO' \")\n",
        "\n",
        "elif num_uno == 5:\n",
        "  print(\"El numero es 'CINCO' \")\n",
        "\n",
        "else :\n",
        "  print(\"Este programa solo puede convertir hasta el numero 5\")\n",
        "\n",
        "print(\"Fin.\")\n"
      ]
    },
    {
      "cell_type": "markdown",
      "metadata": {
        "id": "EMUP6hcfieL6"
      },
      "source": [
        "## SENTENCIAS CONDICIONALES ANIDADAS"
      ]
    },
    {
      "cell_type": "markdown",
      "metadata": {
        "id": "FLNw6jTUiocK"
      },
      "source": [
        "Se presentan cuando por el camino de verdadero o falso de una sentencia condicional hay otra sentencia condiciona. Es decir, cuando trabajamos con las sentencias condicionales simples, compuestas o multiples, podemos colocar dentro de la instruccion(es) a ejecutar de cada uno de estas sentencias, otra sentencia condicional. Es una condicion dentro de otra condicion."
      ]
    },
    {
      "cell_type": "code",
      "execution_count": null,
      "metadata": {
        "colab": {
          "base_uri": "https://localhost:8080/"
        },
        "id": "EsNisz8yjV_B",
        "outputId": "fd64f951-323a-41fb-d605-0ea04c00dd9e"
      },
      "outputs": [
        {
          "name": "stdout",
          "output_type": "stream",
          "text": [
            "CONVERSOR \n",
            "\n",
            "Menu de opciones: \n",
            "\n",
            "Presione 1 para convertir de numero a palabra.\n",
            "Presione 2 para convertir de palabra a numero \n",
            "\n",
            "Cual es tu opcion deseada?: 1\n",
            "\n",
            " Conversor de numero a palabra. \n",
            "\n",
            "¿Cual es el numero que seas convertir a palabra?: 2\n",
            "\n",
            " La palabra es \"DOS\" \n",
            "\n",
            " Fin. \n"
          ]
        }
      ],
      "source": [
        "# SENTENCIAS CONDICIONALES ANIDADAS -- \n",
        "\n",
        "print(\"CONVERSOR \\n\") # Se usa \\n para reailizar un salgo de linea\n",
        "\n",
        "print(\"Menu de opciones: \\n\")\n",
        "\n",
        "print(\"Presione 1 para convertir de numero a palabra.\")\n",
        "print(\"Presione 2 para convertir de palabra a numero \\n\")\n",
        "\n",
        "opc = int(input(\"Cual es tu opcion deseada?: \"))\n",
        "\n",
        "if opc == 1:\n",
        "  print(\"\\n Conversor de numero a palabra. \\n\")\n",
        "  opc_uno = int(input(\"¿Cual es el numero que seas convertir a palabra?: \"))\n",
        "  if opc_uno == 1:\n",
        "    print('\\n La palabra es \"UNO\"')\n",
        "  elif opc_uno == 2:\n",
        "    print('\\n La palabra es \"DOS\" ')\n",
        "  elif opc_uno == 3:\n",
        "    print('\\n La palabra es \"TRES\" ')\n",
        "  elif opc_uno == 4:\n",
        "    print('\\n La palabra es \"CUATRO\" ')\n",
        "  elif opc_uno == 5:\n",
        "    print('\\n La palabra es \"CINCO\" ')\n",
        "  else : \n",
        "    print(\"\\n La palabra seleccionada no esta registrado\")\n",
        "\n",
        "elif opc ==2:\n",
        "  print(\"\\n Conversor de palabra a numero. \\n\")\n",
        "  opc_dos = input(\"¿Cual es la palabra que seas convertir a numero?: \") #solo usaremos input, pues el dato ingresado sera texno\n",
        "  opc_dos = opc_dos.lower() # Usamos lower para poner en minusculas la palabra ingresada\n",
        "  if opc_dos == \"uno\":\n",
        "    print('\\n El numero es \"1\" ')\n",
        "  elif opc_dos == \"dos\":\n",
        "    print('\\n El numero es \"2\" ')\n",
        "  elif opc_dos == \"tres\":\n",
        "    print('\\n El numero es \"3\" ')\n",
        "  elif opc_dos == \"cuatro\":\n",
        "    print('\\n El numero es \"4\" ')\n",
        "  elif opc_dos == \"cinco\":\n",
        "    print('\\n El numero es \"5\" ')\n",
        "  else:\n",
        "    print(\"\\n El numero ingresado no esta registrada\")\n",
        "\n",
        "else :\n",
        "  print(\"\\n Opcion no disponible.\")\n",
        "\n",
        "print(\"\\n Fin. \")\n",
        "\n",
        "   \n",
        "\n",
        "\n",
        "\n",
        "\n"
      ]
    },
    {
      "cell_type": "code",
      "execution_count": null,
      "metadata": {
        "colab": {
          "base_uri": "https://localhost:8080/"
        },
        "id": "CzCUgnq--vHN",
        "outputId": "2448398e-c870-4207-cff6-b024ee911bff"
      },
      "outputs": [
        {
          "name": "stdout",
          "output_type": "stream",
          "text": [
            "conversor\n",
            "\n",
            " Menu de opciones \n",
            "\n",
            "Presione 1 para convertir de numero a palabra\n",
            "Presione 2 para convertir de palabra a numero\n",
            "\n",
            " ¿Cual es tu opcion deseada?: 1\n",
            "\n",
            " conversor de numero a palabra\n",
            "\n",
            " ¿Cual es el numero que deseas convertir a palabra?: 2\n",
            "\n",
            " la palabra es DOS\n",
            "\n",
            " Fin. \n"
          ]
        }
      ],
      "source": [
        "# SENTENCIAS CONDICIONALES ANIDADAS REPASO\n",
        "\n",
        "print(\"conversor\")\n",
        "print(\"\\n Menu de opciones \\n\")\n",
        "\n",
        "print(\"Presione 1 para convertir de numero a palabra\")\n",
        "print(\"Presione 2 para convertir de palabra a numero\")\n",
        "\n",
        "opc = int(input(\"\\n ¿Cual es tu opcion deseada?: \"))\n",
        "\n",
        "if opc == 1:\n",
        "  print(\"\\n conversor de numero a palabra\")\n",
        "\n",
        "  opc_uno = int(input(\"\\n ¿Cual es el numero que deseas convertir a palabra?: \"))\n",
        "  if opc_uno == 1:\n",
        "    print(\"\\n La palabra es UNO \")\n",
        "  elif opc_uno == 2:\n",
        "    print(\"\\n la palabra es DOS\")\n",
        "  elif opc_uno == 3:\n",
        "    print(\"\\n la palabra es TRES\")\n",
        "  else :\n",
        "    print(\"\\n el numero seleccionado no esta registrado\")\n",
        "\n",
        "elif opc == 2:\n",
        "  print(\"\\n Conversor de palabra a numero\") \n",
        "  \n",
        "  opc_dos = input(\"\\n ¿Cual es la palabra que deseas convertir a numero?: \")\n",
        "  opc_dos = opc_dos.lower()\n",
        "  if opc_dos == \"uno\":\n",
        "    print(\"\\n El numero es 1 \")\n",
        "  elif opc_dos == \"dos\":\n",
        "    print(\"\\n El numero es 2 \")\n",
        "  elif opc_dos == \"tres\": \n",
        "    print(\"\\n El numero es 3 \")\n",
        "  else : \n",
        "    print(\"\\n la palabra digitada no esta registrada\")\n",
        "\n",
        "else :\n",
        "  print(\"\\n opcion no esta disponible\") \n",
        "\n",
        "print(\"\\n Fin. \")\n",
        "\n",
        "\n",
        "\n"
      ]
    },
    {
      "cell_type": "markdown",
      "metadata": {
        "id": "CQErXCiJoyLD"
      },
      "source": [
        "## OPERADORES RELACIONALES"
      ]
    },
    {
      "cell_type": "markdown",
      "metadata": {
        "id": "x03Bg0x0-A8n"
      },
      "source": [
        "Son simbolos que se usan para comparar dos valores, y generalmente son utilizados en las sentencias condicionales para la toma de decisiones. Al utilizar operadores relacionales dentro de una sentencia condicional, si el resultado de la comparacion es correcto, la expresion o condicion se considera correcto y en caso contrario sera falsa."
      ]
    },
    {
      "cell_type": "code",
      "execution_count": null,
      "metadata": {
        "colab": {
          "base_uri": "https://localhost:8080/"
        },
        "id": "86_-Np-w-pdU",
        "outputId": "91bd0154-67b1-4efc-c8f5-dbd6ecb66b59"
      },
      "outputs": [
        {
          "name": "stdout",
          "output_type": "stream",
          "text": [
            "Introduce dos numeros a comparar\n",
            "\n",
            " Introduce el primer numero : 20\n",
            "\n",
            " Introduce el segundo numero: 5\n",
            "\n",
            " Los numeros a comparar son:  20  y  5 \n",
            "\n",
            "Es mayor o igual\n",
            "Es diferente...\n",
            "Es mayor...\n",
            "\n",
            " Fin.\n"
          ]
        }
      ],
      "source": [
        "# OPERADORES RELACIONALES\n",
        "\n",
        "print(\"Introduce dos numeros a comparar\")\n",
        "\n",
        "opc_uno = int(input(\"\\n Introduce el primer numero : \"))\n",
        "opc_dos = int(input(\"\\n Introduce el segundo numero: \"))\n",
        "\n",
        "print(\"\\n Los numeros a comparar son: \", opc_uno, \" y \", opc_dos, \"\\n\")\n",
        "\n",
        "if opc_uno == opc_dos:           # solo usamos sentencias condicionales simples y no anidadas.\n",
        "  print(\"Son iguales....\")       # Buscamos encontrar que operadores relacionales se cumple   \n",
        "\n",
        "if opc_uno >= opc_dos:\n",
        "  print(\"Es mayor o igual\")\n",
        "\n",
        "if opc_uno <= opc_dos:\n",
        "  print(\"Es menor o igual\")\n",
        "\n",
        "if opc_uno != opc_dos:\n",
        "  print(\"Es diferente...\")\n",
        "\n",
        "if opc_uno < opc_dos:\n",
        "  print(\"Es menor...\")\n",
        "\n",
        "if opc_uno > opc_dos:\n",
        "  print(\"Es mayor...\")\n",
        "\n",
        "print(\"\\n Fin.\")"
      ]
    },
    {
      "cell_type": "markdown",
      "metadata": {
        "id": "M5oJWA4jPDKB"
      },
      "source": [
        "## OPERADORES LOGICOS"
      ]
    },
    {
      "cell_type": "code",
      "execution_count": null,
      "metadata": {
        "colab": {
          "base_uri": "https://localhost:8080/"
        },
        "id": "0hZu5SoqPHBE",
        "outputId": "802287ee-28ec-446b-dca3-44b3f8331580"
      },
      "outputs": [
        {
          "name": "stdout",
          "output_type": "stream",
          "text": [
            "conjuncion (and) \n",
            "\n",
            "¿Escribe un numero mayor a 2 y menor a 5: 5\n",
            "\n",
            " El numero  5  NO cumple con la condicion. \n",
            "\n"
          ]
        }
      ],
      "source": [
        "# OPERADORES LOGICOS --- Se usa and, or y not\n",
        "\n",
        "print(\"conjuncion (and) \\n\")\n",
        "\n",
        "num_uno = int(input(\"¿Escribe un numero mayor a 2 y menor a 5: \"))\n",
        "\n",
        "if num_uno > 2 and num_uno < 5:\n",
        "  print(\"\\n El numero \", num_uno, \" cumple con la condicion. \\n\")\n",
        "else :\n",
        "  print(\"\\n El numero \", num_uno, \" NO cumple con la condicion. \\n\")\n",
        "\n"
      ]
    },
    {
      "cell_type": "code",
      "execution_count": null,
      "metadata": {
        "colab": {
          "base_uri": "https://localhost:8080/"
        },
        "id": "6VynyhBqSZoG",
        "outputId": "3f445bfa-0b8b-44b4-b1d7-9072ee38fb46"
      },
      "outputs": [
        {
          "name": "stdout",
          "output_type": "stream",
          "text": [
            "Disyuncion (or) \n",
            "\n",
            "Para cumplir con la condicion escribe 'si' o 'yes': yesi\n",
            "\n",
            " La condicion no se ha cumplido \n",
            "\n"
          ]
        }
      ],
      "source": [
        "# DISYUNCION \n",
        "\n",
        "print(\"Disyuncion (or) \\n\")\n",
        "\n",
        "palabra = input(\"Para cumplir con la condicion escribe 'si' o 'yes': \")\n",
        "palabra = palabra.lower()\n",
        "\n",
        "if palabra == \"si\" or palabra ==\"yes\":\n",
        "  print(\"\\n La condicion se ha cumplido \\n\")\n",
        "\n",
        "else: \n",
        "  print(\"\\n La condicion no se ha cumplido \\n\")\n",
        "\n"
      ]
    },
    {
      "cell_type": "code",
      "execution_count": null,
      "metadata": {
        "colab": {
          "base_uri": "https://localhost:8080/"
        },
        "id": "R4VNmHCqTz2Q",
        "outputId": "689af06c-0bc2-4283-aa8a-351ec9a0d8be"
      },
      "outputs": [
        {
          "name": "stdout",
          "output_type": "stream",
          "text": [
            "Negacion (not) \n",
            "\n",
            "Introduce un numero igual a 5: 5\n",
            "\n",
            " EL numero es igual a cinco y NO cumple la condicion \n",
            "\n",
            " Fin.\n"
          ]
        }
      ],
      "source": [
        "# NEGACION\n",
        "\n",
        "print(\"Negacion (not) \\n\")\n",
        "\n",
        "opc_uno = int(input(\"Introduce un numero igual a 5: \"))\n",
        "\n",
        "if not opc_uno == 5:\n",
        "  print(\"\\n El numero es diferente a cinco y SI cumple la condicion \\n\")\n",
        "else: \n",
        "  print(\"\\n EL numero es igual a cinco y NO cumple la condicion \\n\")\n",
        "\n",
        "print(\" Fin.\")"
      ]
    },
    {
      "cell_type": "markdown",
      "metadata": {
        "id": "1H4XcNZoVjwJ"
      },
      "source": [
        "## PRACTICA PROPUESTA Nº 1"
      ]
    },
    {
      "cell_type": "code",
      "execution_count": null,
      "metadata": {
        "colab": {
          "base_uri": "https://localhost:8080/"
        },
        "id": "CI4mPQgpVoRU",
        "outputId": "e5832fee-1d9e-4b33-daa3-fd3e40c45654"
      },
      "outputs": [
        {
          "name": "stdout",
          "output_type": "stream",
          "text": [
            "CALCULO DE VACACIONES DE RAPPI\n",
            "\n",
            " ¿Cual es tu nombre?: delsin\n",
            "\n",
            " ¿Digita tu clave de departamento?: 0\n",
            "\n",
            " Esta clave no esta registrada\n",
            "\n",
            " Fin.\n"
          ]
        }
      ],
      "source": [
        "# EJERCICIO 1\n",
        "\n",
        "print(\"CALCULO DE VACACIONES DE RAPPI\")\n",
        "\n",
        "nombre = input(\"\\n ¿Cual es tu nombre?: \")\n",
        "\n",
        "clave = int(input(\"\\n ¿Digita tu clave de departamento?: \"))\n",
        "\n",
        "if clave == 1:\n",
        "\n",
        "  año = int(input(\"\\n ¿Cuantos años trabajas?: \"))\n",
        "\n",
        "  if año == 1:\n",
        "    print(\"\\n Te corresponde 6 dias de vacaciones.\")\n",
        "  \n",
        "  elif año >= 2 and año <= 6:\n",
        "    print(\"\\n Te corresponde 14 dias de vacaciones. \")\n",
        "  \n",
        "  elif año >= 7:\n",
        "    print(\"\\n Te corresponde 20 dias de vacaciones. \")\n",
        "  \n",
        "  else :\n",
        "    print(\"\\n sin derecho a vacaciones.\")\n",
        "\n",
        "elif clave == 2:\n",
        "\n",
        "  años = int(input(\"\\n ¿Cuantos años trabajas?: \"))\n",
        "\n",
        "  if años == 1:\n",
        "    print(\"\\n te corresponde 7 dias de vacaciones.\")\n",
        "  \n",
        "  elif años >=2 and años <= 6:\n",
        "    print(\"\\n te corresponde 15 dias de vacaciones.\")\n",
        "\n",
        "  elif años >= 7:\n",
        "    print(\"\\n te corresponde 22 dias de vacaciones.\")\n",
        "  \n",
        "  else :\n",
        "    print(\"\\n sin derecho a vacaciones\")\n",
        "\n",
        "elif clave == 3:\n",
        "\n",
        "  añoss = int(input(\"\\n ¿Cuantos años trabajas?: \"))\n",
        "\n",
        "  if añoss == 1:\n",
        "    print(\"\\n te corresponde 10 dias de vacaciones.\")\n",
        "\n",
        "  elif añoss >=2 and añoss <= 6:\n",
        "    print(\"\\n te corresponde 20 dias de vacaciones.\")\n",
        "  \n",
        "  elif añoss >= 7:\n",
        "    print(\"\\n Te corresponde 30 dias de vacaciones.\")\n",
        "\n",
        "  else :\n",
        "    print(\"\\n Sin derecho a vacaciones\") \n",
        "\n",
        "\n",
        "else :\n",
        "  print(\"\\n Esta clave no esta registrada\")\n",
        "\n",
        "print(\"\\n Fin.\")"
      ]
    },
    {
      "cell_type": "code",
      "execution_count": null,
      "metadata": {
        "colab": {
          "base_uri": "https://localhost:8080/"
        },
        "id": "5Y8asjAcDbFr",
        "outputId": "306cac0b-4375-49d4-aaef-b4d6bf6a2db9"
      },
      "outputs": [
        {
          "name": "stdout",
          "output_type": "stream",
          "text": [
            "\n",
            " SISTEMA DE CONTROL VACACIONAL DE RAPPI \n",
            "\n",
            " Porfavor introduce el nombre del empleado: delsin\n",
            " Porfavor introduce la clave del departamento: 2\n",
            " Porfavor introduce los años laborados del empleado: 8\n",
            "\n",
            " El empleado  delsin  tiene derecho a 22 dias de vacaciones.\n",
            "\n",
            " Fin.\n"
          ]
        }
      ],
      "source": [
        "# Ejercicio resuelto por ernesto\n",
        "\n",
        "print(\"\\n SISTEMA DE CONTROL VACACIONAL DE RAPPI \\n\")\n",
        "\n",
        "nombre_empleado = input(\" Porfavor introduce el nombre del empleado: \")\n",
        "clave_departamento = int(input(\" Porfavor introduce la clave del departamento: \"))\n",
        "antiguedad_empleado = float(input(\" Porfavor introduce los años laborados del empleado: \"))\n",
        "\n",
        "if clave_departamento == 1:\n",
        "  \n",
        "  if antiguedad_empleado >= 1 and antiguedad_empleado <2:\n",
        "    print(\"\\n El empleado \", nombre_empleado, \" tiene derecho a 6 dias de vacaciones.\")\n",
        "  \n",
        "  elif antiguedad_empleado >=2 and antiguedad_empleado <= 6:\n",
        "    print(\"\\n El empleado \", nombre_empleado, \" tiene derecho a 14 dias de vacaciones.\")\n",
        "  \n",
        "  elif antiguedad_empleado >=7:\n",
        "    print(\"\\n El empleado \", nombre_empleado, \" tiene derecho a 20 dias de vacaciones.\")\n",
        "  \n",
        "  else : \n",
        "    print(\"\\n Aun no tiene derecho a vacaciones.\")\n",
        "\n",
        "elif clave_departamento == 2:\n",
        "\n",
        "  if antiguedad_empleado >= 1 and antiguedad_empleado <2:\n",
        "    print(\"\\n El empleado \", nombre_empleado, \" tiene derecho a 7 dias de vacaciones.\")\n",
        "  \n",
        "  elif antiguedad_empleado >=2 and antiguedad_empleado <= 6:\n",
        "    print(\"\\n El empleado \", nombre_empleado, \" tiene derecho a 15 dias de vacaciones.\")\n",
        "  \n",
        "  elif antiguedad_empleado >=7:\n",
        "    print(\"\\n El empleado \", nombre_empleado, \" tiene derecho a 22 dias de vacaciones.\")\n",
        "  \n",
        "  else : \n",
        "    print(\"\\n Aun no tiene derecho a vacaciones.\")\n",
        "\n",
        "elif clave_departamento == 3:\n",
        "\n",
        "  if antiguedad_empleado >= 1 and antiguedad_empleado <2:\n",
        "    print(\"\\n El empleado \", nombre_empleado, \" tiene derecho a 10 dias de vacaciones.\")\n",
        "  \n",
        "  elif antiguedad_empleado >=2 and antiguedad_empleado <= 6:\n",
        "    print(\"\\n El empleado \", nombre_empleado, \" tiene derecho a 20 dias de vacaciones.\")\n",
        "  \n",
        "  elif antiguedad_empleado >=7:\n",
        "    print(\"\\n El empleado \", nombre_empleado, \" tiene derecho a 30 dias de vacaciones.\")\n",
        "  \n",
        "  else : \n",
        "    print(\"\\n Aun no tiene derecho a vacaciones.\")\n",
        "\n",
        "else :\n",
        "  print(\"\\n la clave de departamento no existe vuelve a intentarlo\")\n",
        "\n",
        "print(\"\\n Fin.\")\n",
        "\n"
      ]
    },
    {
      "cell_type": "markdown",
      "metadata": {
        "id": "ZP8zmDXsIW5B"
      },
      "source": [
        "## PRACTICA PROPUESTA Nº 2"
      ]
    },
    {
      "cell_type": "code",
      "execution_count": null,
      "metadata": {
        "colab": {
          "base_uri": "https://localhost:8080/"
        },
        "id": "kDS3DM7IIaIL",
        "outputId": "002ef284-9430-4acd-8022-d4f18500d0db"
      },
      "outputs": [
        {
          "name": "stdout",
          "output_type": "stream",
          "text": [
            "PROGRAMA QUE DETERMINA SI UN NUMERO ES PAR O IMPAR \n",
            "\n",
            "Introduce un numero entero: 600\n",
            "\n",
            " El numero  600.0 es par\n"
          ]
        }
      ],
      "source": [
        "# Ejercicio resuelto \n",
        "\n",
        "print(\"PROGRAMA QUE DETERMINA SI UN NUMERO ES PAR O IMPAR \\n\")\n",
        "\n",
        "numero = float(input(\"Introduce un numero entero: \"))\n",
        "\n",
        "if numero % 2 == 0:\n",
        "  print(\"\\n El numero \", numero, \"es par\")\n",
        "\n",
        "elif numero % 2 == 1:\n",
        "  print(\"\\n El numero \", numero, \"es impar\")\n",
        "\n",
        "else :\n",
        "  print(\"\\n Porfavor, introduce un numero entero\")\n"
      ]
    },
    {
      "cell_type": "markdown",
      "metadata": {
        "id": "1H9U5CVqDBGa"
      },
      "source": [
        "## PRACTICA PROPUESTA Nº 3"
      ]
    },
    {
      "cell_type": "code",
      "execution_count": null,
      "metadata": {
        "colab": {
          "base_uri": "https://localhost:8080/"
        },
        "id": "NKSuDPOfgzNG",
        "outputId": "aa8bd5e4-2c0e-4235-bf6f-cbff9054b997"
      },
      "outputs": [
        {
          "output_type": "stream",
          "name": "stdout",
          "text": [
            "\n",
            " PROGRAMA PARA DETERMINAR, ¿CUAL ES EL NUMERO MAS GRANDE DE TRES NUMEROS? \n",
            "\n",
            "Introduce el primer numero: 3\n",
            "Introduce el segundo numero: 5\n",
            "Introduce el tercer numero: 1\n",
            "\n",
            " El numero  5 es el mas grande de los tres.\n"
          ]
        }
      ],
      "source": [
        "# Ejercio 3\n",
        "\n",
        "print(\"\\n PROGRAMA PARA DETERMINAR, ¿CUAL ES EL NUMERO MAS GRANDE DE TRES NUMEROS? \\n\")\n",
        "\n",
        "prim_num = int(input(\"Introduce el primer numero: \"))\n",
        "\n",
        "seg_num = int(input(\"Introduce el segundo numero: \"))\n",
        "\n",
        "ter_num = int(input(\"Introduce el tercer numero: \"))\n",
        "\n",
        "if prim_num == seg_num and prim_num == ter_num:\n",
        "  print(\"\\n los numeros son iguales\")\n",
        "\n",
        "elif prim_num > seg_num and prim_num > ter_num:\n",
        "  print(\"\\n El numero \", prim_num, \"es el mas grande de los tres. \")\n",
        "\n",
        "elif seg_num > prim_num and seg_num > ter_num:\n",
        "  print(\"\\n El numero \", seg_num, \"es el mas grande de los tres.\")\n",
        "\n",
        "elif ter_num > prim_num and ter_num > seg_num:\n",
        "  print(\"\\n El numero \", ter_num, \"es el mas grande de los tres.\")\n"
      ]
    },
    {
      "cell_type": "code",
      "source": [
        "# RESOLUCION DE ERNESTO\n",
        "\n",
        "print(\"\\n PROGRAMA PARA DETERMINAR, ¿CUAL ES EL NUMERO MAS GRANDE DE TRES NUMERO? \\n \")\n",
        "\n",
        "num_uno = int(input(\"Introduce el primero numero: \"))\n",
        "num_dos = int(input(\"Introduce el primero numero: \"))\n",
        "num_tres = int(input(\"Introduce el primero numero: \"))\n",
        "\n",
        "if num_uno > num_dos and num_uno > num_tres:\n",
        "  print(\"\\n El numero\", num_uno, \"es el mas grande de los tres. \")\n",
        "\n",
        "else: \n",
        "  if num_dos > num_tres:\n",
        "    print(\"\\n El numero\", num_dos, \"es el mas grande de los tres. \")\n",
        "\n",
        "  else: \n",
        "    print(\"\\n El numero\", num_tres, \"es el mas grande de los tres. \")"
      ],
      "metadata": {
        "colab": {
          "base_uri": "https://localhost:8080/"
        },
        "id": "_L0aJw9r0T5t",
        "outputId": "b8f0016f-288e-4428-9e15-01d3572d385f"
      },
      "execution_count": null,
      "outputs": [
        {
          "output_type": "stream",
          "name": "stdout",
          "text": [
            "\n",
            " PROGRAMA PARA DETERMINAR, ¿CUAL ES EL NUMERO MAS GRANDE DE TRES NUMERO? \n",
            " \n",
            "Introduce el primero numero: 5\n",
            "Introduce el primero numero: 3\n",
            "Introduce el primero numero: 2\n",
            "\n",
            " El numero 5 es el mas grande de los tres. \n"
          ]
        }
      ]
    },
    {
      "cell_type": "markdown",
      "source": [
        "## OPERADORES DE ASIGNACION"
      ],
      "metadata": {
        "id": "elhJFH4h4cpu"
      }
    },
    {
      "cell_type": "markdown",
      "source": [
        "Se encarga de asignar un valor a la variable de la izquierda basado en el valor de la derecha \n",
        "\n",
        "* Operador de asignacion igual (=) --> Si x = y asigna el valor de y a x \n",
        "* Operador de asignacion mas (+=) --> Si x = 5, entonces x += 3, x = 8\n",
        "* Operador de asignacion resta (-=) --> si x = 5, entonces x -= 3, x = 2\n",
        "* Operador de asignacion multipli (*=) --> si x = 5, entonces x *= 3, x = 15\n",
        "* Operador de asignacion division (/=) --> si x = 10, entonces x /= 2, x = 5\n",
        "* Operador de asignacion div entera (//=) --> si x = 10, entonces x //= 2 x = 5\n",
        "* Operador de asignacion exponente (**=) --> si x = 5, entonces x **= 3, x = 125\n",
        "* Operador de asignacion modulo (%=) --> si x = 10, entonces x %= 2, x = 0"
      ],
      "metadata": {
        "id": "E94f7egb4ou2"
      }
    },
    {
      "cell_type": "code",
      "source": [
        "# Ejemplo operadores de asignacion --> Ernesto\n",
        "\n",
        "nombre = \"\\n Hola \"\n",
        "nombre += input(\"\\n Escribe tu nombre: \")\n",
        "\n",
        "print(nombre, \"esto es el incremeneto y decremento de una variable.\")\n",
        "\n",
        "print(\"\\n Incremento o aumento: \\n\")\n",
        "\n",
        "x = 1\n",
        "print(\"El valor inicial de x es: \", x )\n",
        "\n",
        "x += 1\n",
        "x += 1\n",
        "x += 1\n",
        "x += 1\n",
        "print(\"\\n El valor final de x es: \", x, \"\\n\")\n",
        "\n",
        "# Un adicional a mi entendimiento\n",
        "\n",
        "y = 2 \n",
        "print(\"\\n el valor inicial de y es: \", y)\n",
        "\n",
        "y += int(input(\"\\n Digita el numero que quieres incrementar al valor incial: \"))\n",
        "\n",
        "print(\"\\n el valor final de y es: \", y)\n"
      ],
      "metadata": {
        "colab": {
          "base_uri": "https://localhost:8080/"
        },
        "id": "FhB3-SJo46DK",
        "outputId": "80bddfc4-af4a-43b8-972a-3e67d850c652"
      },
      "execution_count": null,
      "outputs": [
        {
          "output_type": "stream",
          "name": "stdout",
          "text": [
            "\n",
            " Escribe tu nombre: Carlitos\n",
            "\n",
            " Hola Carlitos esto es el incremeneto y decremento de una variable.\n",
            "\n",
            " Incremento o aumento: \n",
            "\n",
            "El valor inicial de x es:  1\n",
            "\n",
            " El valor final de x es:  5 \n",
            "\n",
            "\n",
            " el valor inicial de y es:  2\n",
            "\n",
            " Digita el numero que quieres incrementar al valor incial: 5\n",
            "\n",
            " el valor final de y es:  7\n"
          ]
        }
      ]
    },
    {
      "cell_type": "markdown",
      "source": [
        "## PRACTICA PROPUESTA Nº 4"
      ],
      "metadata": {
        "id": "6FvEzHGYAS62"
      }
    },
    {
      "cell_type": "code",
      "source": [
        "# REALIZANDO UNA CALCULADORA\n",
        "\n",
        "print(\"\\n CALCULADORA DE UNA SOLA VARIABLE \\n\")\n",
        "print(\"Menu de opciones: \")\n",
        "\n",
        "print(\"\\n 1. Suma\")\n",
        "print(\"2. Resta\")\n",
        "print(\"3. Multiplicacion\")\n",
        "print(\"4. Division\")\n",
        "print(\"5. Division Entera\")\n",
        "print(\"6. Exponente\")\n",
        "print(\"7. Modulo o resto\")\n",
        "\n",
        "numero = int(input(\"\\n Introduce la opcion deseada: \"))\n",
        "\n",
        "if numero == 1:\n",
        "  print(\"\\n Elegiste Suma\")\n",
        "\n",
        "  numero = int(input(\"\\n Introduce el primer numero: \"))\n",
        "  numero += int(input(\"\\n Introduce el segundo numero: \"))\n",
        "\n",
        "  print(\"\\n El resultado de la suma es: \", numero)\n",
        "\n",
        "elif numero == 2:\n",
        "  print(\"\\n Elegiste Resta\")\n",
        "\n",
        "  numero = int(input(\"\\n Introduce el primer numero: \"))\n",
        "  numero -= int(input(\"\\n Introduce el segundo numero: \"))\n",
        "\n",
        "  print(\"\\n El resultado de la resta es: \", numero)\n",
        "\n",
        "\n",
        "elif numero == 3:\n",
        "  print(\"\\n Elegiste Multiplicacion\")\n",
        "\n",
        "  numero = int(input(\"\\n Introduce el primer numero: \"))\n",
        "  numero *= int(input(\"\\n Introduce el segundo numero: \"))\n",
        "\n",
        "  print(\"\\n El resultado de la Multiplicacion es: \", numero)\n",
        "\n",
        "elif numero == 4:\n",
        "  print(\"\\n Elegiste Divison\")\n",
        "\n",
        "  numero = float(input(\"\\n Introduce el primer numero: \"))\n",
        "  numero /= float(input(\"\\n Introduce el segundo numero: \"))\n",
        "\n",
        "  print(\"\\n El resultado de la division es: \", round(numero, 2)) # Usamos round para controlar la cantidad de decimales que queremos mostrar.\n",
        "\n",
        "elif numero == 5:\n",
        "  print(\"\\n Elegiste Division Entera\")\n",
        "\n",
        "  numero = int(input(\"\\n Introduce el primer numero: \"))\n",
        "  numero //= int(input(\"\\n Introduce el segundo numero: \"))\n",
        "\n",
        "  print(\"\\n El resultado de la Division Entera es: \", numero)\n",
        "\n",
        "elif numero == 6:\n",
        "  print(\"\\n Elegiste Exponente\")\n",
        "\n",
        "  numero = int(input(\"\\n Introduce el primer numero: \"))\n",
        "  numero **= int(input(\"\\n Introduce el segundo numero: \"))\n",
        "\n",
        "  print(\"\\n El resultado de la Exponente es: \", numero)\n",
        "\n",
        "elif numero == 7:\n",
        "  print(\"\\n Elegiste Modulo o Resto\")\n",
        "\n",
        "  numero = int(input(\"\\n Introduce el primer numero: \"))\n",
        "  numero %= int(input(\"\\n Introduce el segundo numero: \"))\n",
        "  \n",
        "  print(\"\\n El resultado del Modulo o Resto es: \", numero)\n",
        "\n",
        "else :\n",
        "  print(\"\\n Elige una de las 7 opciones\")"
      ],
      "metadata": {
        "id": "4dqEWSGCAYP5",
        "colab": {
          "base_uri": "https://localhost:8080/"
        },
        "outputId": "27fc4771-c096-40c5-ff74-9d91098cf76d"
      },
      "execution_count": null,
      "outputs": [
        {
          "output_type": "stream",
          "name": "stdout",
          "text": [
            "\n",
            " CALCULADORA DE UNA SOLA VARIABLE \n",
            "\n",
            "Menu de opciones: \n",
            "\n",
            " 1. Suma\n",
            "2. Resta\n",
            "3. Multiplicacion\n",
            "4. Division\n",
            "5. Division Entera\n",
            "6. Exponente\n",
            "7. Modulo o resto\n",
            "\n",
            " Introduce la opcion deseada: 4\n",
            "\n",
            " Elegiste Divison\n",
            "\n",
            " Introduce el primer numero: 99\n",
            "\n",
            " Introduce el segundo numero: 4\n",
            "\n",
            " El resultado de la division es:  24.75\n"
          ]
        }
      ]
    },
    {
      "cell_type": "markdown",
      "source": [
        "## PARAMETROS END AND SEP"
      ],
      "metadata": {
        "id": "OUxHQAL01KQe"
      }
    },
    {
      "cell_type": "markdown",
      "source": [
        "* El parametro end se utiliza para agregar cualquier cadena de caracteres al final de la salida o impresion en pantalla de la funcion print(). El parametro end sirve para evitar el salto de linea de la funcion print().\n",
        "\n",
        "* El parametro sep se utiliza para dar formato a las cadenas de caracteres que deben imprimirse en pantalla, agregando un separador entre las cadenas que se imprimiran. "
      ],
      "metadata": {
        "id": "cums3dgoAFgC"
      }
    },
    {
      "cell_type": "code",
      "source": [
        "# COMO UTILIZAR E IMPLEMTAR EL PARAMETRO end\n",
        "\n",
        "print(\"Hola\") # print base\n",
        "\n",
        "print(\"Esto es un\", end = \" \")  # se puede incluir una cadena de caracteres dentro del parametro end\n",
        "print (\"ejemplo\") # Colocar al final del print donde se quiere anular el salto de linea.\n",
        "\n",
        "print(\"del curso basico de\", end = \"\") # si no incluimos nada dentro de las comillas del parametro end solo anula el salto de linea\n",
        "print(\"Python\")\n",
        "\n",
        "print(\"año\", end = \" \") # se puede colocar caracteres dentro de las comillas del parametro end\n",
        "print(\"2022\")"
      ],
      "metadata": {
        "id": "iG4-k8Ph1QTr",
        "colab": {
          "base_uri": "https://localhost:8080/"
        },
        "outputId": "d4d04185-7b8c-4d7e-8658-459383ffcde9"
      },
      "execution_count": null,
      "outputs": [
        {
          "output_type": "stream",
          "name": "stdout",
          "text": [
            "Hola\n",
            "Esto es un ejemplo\n",
            "del curso basico dePython\n",
            "año 2022\n"
          ]
        }
      ]
    },
    {
      "cell_type": "code",
      "source": [
        "# COMO UTILIZAR EL PARAMETRO sep\n",
        "\n",
        "print(\"1\",\"2\",\"3\",\"4\",\"5\") # Cuando usamos el print base se genera un espacio entre caracteres\n",
        "print(\"1\",\"2\",\"3\",\"4\",\"5\", sep = \"\") # Cuando usamos el sep sin ningun contenido entre las comillas se anula el espacio entre caracteres\n",
        "print(\"1\",\"2\",\"3\",\"4\",\"5\", sep = \",\") # Cuando usamos una coma dentro de las comillas del parametro sep se genera una coma en cada espacio de los caracteres"
      ],
      "metadata": {
        "colab": {
          "base_uri": "https://localhost:8080/"
        },
        "id": "-P3JSfjjBZbV",
        "outputId": "b3aeb98f-0cc4-43de-b7bf-e1e00de78f03"
      },
      "execution_count": null,
      "outputs": [
        {
          "output_type": "stream",
          "name": "stdout",
          "text": [
            "1 2 3 4 5\n",
            "12345\n",
            "1,2,3,4,5\n"
          ]
        }
      ]
    },
    {
      "cell_type": "markdown",
      "source": [
        "## BUCLE O CICLO WHILE"
      ],
      "metadata": {
        "id": "iuP6IRlcD_sC"
      }
    },
    {
      "cell_type": "markdown",
      "source": [
        "Permite ejecutar en repetidas ocasiones instrucciones o lineas de codigos indicadas por el programador, con lo cual, no existe la necesidad de duplicar lineas de codigo para ejecutar en mas de una ocasion.\n",
        "\n",
        "Permite repetir la ejecucion de un grupo de instrucciones, mientras se cumpla una condicion, es decir, mientras las condiciones del ciclo o bucle se cumpla las instrucciones se seguiran ejecutando. "
      ],
      "metadata": {
        "id": "tZw3_LtyEcic"
      }
    },
    {
      "cell_type": "code",
      "source": [
        "# COMO UTILIZAR EL BUCLE O CICLO WHILE\n",
        "\n",
        "# Ejemplo 1\n",
        "\n",
        "print(\"Ejemplo 1 \\n\")\n",
        "\n",
        "x = 1\n",
        "\n",
        "while x < 3:\n",
        "  print(x)\n",
        "  x += 1\n",
        "\n",
        "print(\"Fin. \\n\")\n",
        "\n",
        "# Ejemplo 2\n",
        "\n",
        "print(\"Ejemplo 2 \\n\")\n",
        "\n",
        "x = 1\n",
        "\n",
        "while x < 11:\n",
        "  print(\"Delsin\")\n",
        "  x += 1\n",
        "\n",
        "print(\"Fin.\")  \n"
      ],
      "metadata": {
        "colab": {
          "base_uri": "https://localhost:8080/"
        },
        "id": "1ShqFf2mEMEW",
        "outputId": "24785e14-0d5f-4629-9d66-cd7587ad0948"
      },
      "execution_count": null,
      "outputs": [
        {
          "output_type": "stream",
          "name": "stdout",
          "text": [
            "Ejemplo 1 \n",
            "\n",
            "1\n",
            "2\n",
            "Fin. \n",
            "\n",
            "Ejemplo 2 \n",
            "\n",
            "Delsin\n",
            "Delsin\n",
            "Delsin\n",
            "Delsin\n",
            "Delsin\n",
            "Delsin\n",
            "Delsin\n",
            "Delsin\n",
            "Delsin\n",
            "Delsin\n",
            "Fin.\n"
          ]
        }
      ]
    },
    {
      "cell_type": "markdown",
      "source": [
        "## PRACTICA PROPUESTA Nº 5"
      ],
      "metadata": {
        "id": "ZW8euV1ZJWvW"
      }
    },
    {
      "cell_type": "code",
      "source": [
        "# RESOLVIENDO EL EJERCICIO \n",
        "\n",
        "num_uno = 0\n",
        "num_dos = 1\n",
        "\n",
        "while num_uno <= 1597:\n",
        "  print(num_uno, num_dos, end = \" \")\n",
        "  \n",
        "  num_uno += num_dos\n",
        "  num_dos += num_uno\n"
      ],
      "metadata": {
        "colab": {
          "base_uri": "https://localhost:8080/"
        },
        "id": "-V_qWROnJjsP",
        "outputId": "14793d97-5a49-4f07-e98b-7ffc0a47bc03"
      },
      "execution_count": null,
      "outputs": [
        {
          "output_type": "stream",
          "name": "stdout",
          "text": [
            "0 1 1 2 3 5 8 13 21 34 55 89 144 233 377 610 987 1597 "
          ]
        }
      ]
    },
    {
      "cell_type": "code",
      "source": [
        "# RESOLUCION DE ERNESTO\n",
        "\n",
        "num_uno, num_dos = 0, 1 # Python interpreta esta declaracion de variables\n",
        "\n",
        "while num_dos <= 1597:\n",
        "  print(num_uno, num_dos, end = \" \")\n",
        "\n",
        "  num_uno = num_uno + num_dos\n",
        "  num_dos = num_uno + num_dos\n"
      ],
      "metadata": {
        "colab": {
          "base_uri": "https://localhost:8080/"
        },
        "id": "26Ovbt0NRGhA",
        "outputId": "d2c74727-6db5-49c5-83af-63b9262eb804"
      },
      "execution_count": null,
      "outputs": [
        {
          "output_type": "stream",
          "name": "stdout",
          "text": [
            "0 1 1 2 3 5 8 13 21 34 55 89 144 233 377 610 987 1597 "
          ]
        }
      ]
    },
    {
      "cell_type": "markdown",
      "source": [
        "## SENTENCIA BREAK Y CONTINUE DE WHILE\n"
      ],
      "metadata": {
        "id": "lO2GGMooSoLh"
      }
    },
    {
      "cell_type": "markdown",
      "source": [
        "* Iteracion: es la repeticion de un segmento de codigo dentro de un programa \n",
        "* Para lograr la interrupcion de una iteracion, contamos con las sentencias break y continue. \n",
        "\n",
        "* La sentencia BREAK se utiliza para detener la ejecucion de una iteracion y salir de ella, con lo cual, el programa continuar con la ejecucion del codigo que se encuentra fuera de nuestro bucle. \n",
        "\n",
        "* La sentencia CONTINUE la cual permite detener la iteracion actual y volver al principio del bucle para realizar una nueva iteracion, si es que la condicon que rige a nuestro bucle se sigue cumpliendo. "
      ],
      "metadata": {
        "id": "Kq_Su36PHgtq"
      }
    },
    {
      "cell_type": "code",
      "source": [
        "# EJEMPLO PARA BREAK \n",
        "\n",
        "print(\"\\n while con la sentencia break \\n \")\n",
        "\n",
        "contador = 0\n",
        "\n",
        "while contador < 10:\n",
        "  contador +=1\n",
        "  \n",
        "  if contador == 5:\n",
        "    break\n",
        "\n",
        "  print(\"valor actual de la variable\", contador)\n",
        "\n",
        "print(\"\\n Fin del programa. La sentencia break se ha ejecutado. \")\n"
      ],
      "metadata": {
        "colab": {
          "base_uri": "https://localhost:8080/"
        },
        "id": "D_mvKnYiK6w0",
        "outputId": "62069b7c-8b97-4a38-b767-2cd6e95a2929"
      },
      "execution_count": null,
      "outputs": [
        {
          "output_type": "stream",
          "name": "stdout",
          "text": [
            "\n",
            " while con la sentencia break \n",
            " \n",
            "valor actual de la variable 1\n",
            "valor actual de la variable 2\n",
            "valor actual de la variable 3\n",
            "valor actual de la variable 4\n",
            "\n",
            " Fin del programa. La sentencia break se ha ejecutado. \n"
          ]
        }
      ]
    },
    {
      "cell_type": "code",
      "source": [
        "# EJEMPLO PARA CONTINUE\n",
        "\n",
        "print(\"\\n while con la sentencia continue \\n \")\n",
        "\n",
        "contador = 0 \n",
        "\n",
        "while contador < 10:\n",
        "  contador += 1\n",
        "\n",
        "  if contador == 5: # cuando la variable = 5, se ejecutara la sentencia continue y omitio la intruccion que debio imprimir en pantalla \n",
        "    continue \n",
        "    \n",
        "  print(\"valor actual de la variable\", contador)\n",
        "\n",
        "\n",
        "\n"
      ],
      "metadata": {
        "colab": {
          "base_uri": "https://localhost:8080/"
        },
        "id": "gy6VJkGoNvBx",
        "outputId": "3690ae70-eacf-456a-ad17-48becd0ba41d"
      },
      "execution_count": null,
      "outputs": [
        {
          "output_type": "stream",
          "name": "stdout",
          "text": [
            "\n",
            " while con la sentencia continue \n",
            " \n",
            "valor actual de la variable 1\n",
            "valor actual de la variable 2\n",
            "valor actual de la variable 3\n",
            "valor actual de la variable 4\n",
            "valor actual de la variable 6\n",
            "valor actual de la variable 7\n",
            "valor actual de la variable 8\n",
            "valor actual de la variable 9\n",
            "valor actual de la variable 10\n"
          ]
        }
      ]
    },
    {
      "cell_type": "markdown",
      "source": [
        "## FUNCION len ()"
      ],
      "metadata": {
        "id": "XbSR5tQNRccP"
      }
    },
    {
      "cell_type": "markdown",
      "source": [
        "* Permite obtener la longitud de una cadena de caracteres, o bien, el numero de elementos que componen un objeto"
      ],
      "metadata": {
        "id": "DE80QDtDRppH"
      }
    },
    {
      "cell_type": "code",
      "source": [
        "# EJEMPLO DE len ()\n",
        "\n",
        "# Opcion 1\n",
        "\n",
        "print(\"Hola tiene \", len(\"Hola\"), \"caracteres\")\n",
        "\n",
        "# opcion 2\n",
        "\n",
        "longitud = len(\"La Geekipedia\")\n",
        "\n",
        "print(\"\\n La Geekipedia tiene \", longitud, \"caracteres\")"
      ],
      "metadata": {
        "colab": {
          "base_uri": "https://localhost:8080/"
        },
        "id": "RjGk3T6XR0hq",
        "outputId": "be7b9935-fec1-4936-d1a7-2410d83b2d82"
      },
      "execution_count": null,
      "outputs": [
        {
          "output_type": "stream",
          "name": "stdout",
          "text": [
            "Hola tiene  4 caracteres\n",
            "\n",
            " La Geekipedia tiene  13 caracteres\n"
          ]
        }
      ]
    },
    {
      "cell_type": "markdown",
      "source": [
        "## CONCATENACION CON FORMAT "
      ],
      "metadata": {
        "id": "HAbOCGeNUlKX"
      }
    },
    {
      "cell_type": "markdown",
      "source": [
        "* Se puede concatenar strings con strings y strings con valores enteros con el +\n",
        "* En el print usamos una , por cada elemento que queremos agregar o separar \n",
        "* El metodo format() nos permite mostrar los valores contenidos en una variable y utilizarlos dentro de una cadena de caracteres, sustituyendo el nombre de la variable con un juego de {}, ubicando en la posicion en donde queremos que se muestre dichos valores.\n"
      ],
      "metadata": {
        "id": "Qz9sVVI4k933"
      }
    },
    {
      "cell_type": "code",
      "source": [
        "# Concatenar con el metodo format()\n",
        "\n",
        "# Alternativa de uso 1\n",
        "\n",
        "nombre = \"Delsin\"\n",
        "edad = \"25\"\n",
        "\n",
        "print(\"Hola, {} tienes {} años \".format(nombre, edad)) # Usamos {} para reemplazar nuestra variable\n",
        "\n",
        "\n",
        "# Alternativa de uso 2\n",
        "\n",
        "print(\" \\n Hola, {nombres} tienes {edades} años \".format(nombres = \"Carlitos\", edades = 16 )) # Definimos las variables en el format\n",
        "\n",
        "# Alternativa de uso 3 - \n",
        "\n",
        "print(\"\\n Hola, {0} tienes {1} años \".format(nombre, edad)) # En python contamos desde 0\n"
      ],
      "metadata": {
        "id": "ZanFx5SWUqI4",
        "colab": {
          "base_uri": "https://localhost:8080/"
        },
        "outputId": "33776027-06c9-4a6b-8275-0f66a9a5e14a"
      },
      "execution_count": null,
      "outputs": [
        {
          "output_type": "stream",
          "name": "stdout",
          "text": [
            "Hola, Delsin tienes 25 años \n",
            " \n",
            " Hola, Carlitos tienes 16 años \n",
            "\n",
            " Hola, Delsin tienes 25 años \n"
          ]
        }
      ]
    },
    {
      "cell_type": "markdown",
      "source": [
        "## CONCATENACION CON F STRINGS"
      ],
      "metadata": {
        "id": "VAAbB-Zcqq42"
      }
    },
    {
      "cell_type": "markdown",
      "source": [
        "* Es una alternativa de concatenacion mas eficiente\n",
        "* Permite agregar expresiones dentro de una constante de tipo string\n"
      ],
      "metadata": {
        "id": "fdffSx_FPayF"
      }
    },
    {
      "cell_type": "code",
      "source": [
        "# CONCATENAR CON F STRINGS\n",
        "\n",
        "# Ejemplo 1\n",
        "\n",
        "print(\"1+4\") # Python lo reconoce como una cadena de caracteres\n",
        "print(f\"{1+4}\") # Cuando los datos estan dentro de las {}, python reconoce que son una expresion y realiza la operacion\n",
        "print(f\"El resultado de la suma de 1+4 es: {1+4}\")\n",
        "\n",
        "# Ejemplo 2\n",
        "\n",
        "nombre = \"Delsin\"\n",
        "estatura = 1.67\n",
        "edad = 25\n",
        "\n",
        "print(f\"\\n Hola {nombre} tienes {edad} años y mides {estatura} metros\")\n",
        "\n",
        "# Ejemplo 3\n",
        "\n",
        "name = input(\"\\n ¿Cual es tu nombre?: \")\n",
        "num_uno = int(input(\"\\n Introduce un numero: \"))\n",
        "num_dos = int(input(\"\\n Introduce un segundo numero: \"))\n",
        "\n",
        "print(f\"\\n Hola, {name} el resultado de {num_uno} + {num_dos} es: {num_uno + num_dos}\")\n",
        "\n",
        "\n"
      ],
      "metadata": {
        "id": "63ITCS1lqs3x",
        "colab": {
          "base_uri": "https://localhost:8080/"
        },
        "outputId": "ff097d69-7ab0-48f3-afc8-58ca46d33c21"
      },
      "execution_count": null,
      "outputs": [
        {
          "output_type": "stream",
          "name": "stdout",
          "text": [
            "1+4\n",
            "5\n",
            "El resultado de la suma de 1+4 es: 5\n",
            "\n",
            " Hola Delsin tienes 25 años y mides 1.67 metros\n",
            "\n",
            " ¿Cual es tu nombre?: Delsin\n",
            "\n",
            " Introduce un numero: 2\n",
            "\n",
            " Introduce un segundo numero: 5\n",
            "\n",
            " Hola, Delsin el resultado de 2 + 5 es: 7\n"
          ]
        }
      ]
    },
    {
      "cell_type": "markdown",
      "source": [
        "## METODO STRIP"
      ],
      "metadata": {
        "id": "MFLwzlmoVBoY"
      }
    },
    {
      "cell_type": "markdown",
      "source": [
        "* Se usa para eliminar caracteres al inicio al final de una cadana, pero si no se especifica que se debe elimnar solo eliminara espacios en blancos y saltos de linea. \n",
        "\n",
        "* Solo puede eliminar los caracteres al inicio y al final de la cadena, y no los caracteres que se encuentran en la parte central\n",
        "\n",
        "\n",
        "* Los tres metodos usados son strip(), Istrip() y rstrip().\n",
        "\n",
        "\n",
        "\n"
      ],
      "metadata": {
        "id": "GCxS-bhpbNaJ"
      }
    },
    {
      "cell_type": "code",
      "source": [
        "# UTILIZACION DEL METODO STRIP\n",
        "\n",
        "   ## Sintaxis: cadena.strip(\"\")  --> el strip no debe tener espacio con la variable, el punto y el juego de parentesis. usamos las \"\" para especificar lo que queremos eliminar \n",
        "\n",
        "\n",
        "# Ejemplo 1\n",
        "\n",
        "Cadena = \"  Hola Delsin \\n\"\n",
        "\n",
        "print(Cadena) # Forma Base\n",
        "\n",
        "Cadena = Cadena.strip() # Cuando no Especificamos elimina las tabulaciones, saltos de lina y espacios en blancos.\n",
        "\n",
        "print(Cadena)\n",
        "\n",
        "# Ejemplo 2\n",
        "\n",
        "Cadena = Cadena.strip(\"n Hios\\t\\n\") # Cuando elimina un caracter vuelve a correr desde el incio\n",
        "\n",
        "print(\"\\n\", Cadena)\n"
      ],
      "metadata": {
        "id": "bbmbzIWoVGZP",
        "colab": {
          "base_uri": "https://localhost:8080/"
        },
        "outputId": "d34fc7d5-0236-43db-9850-a7ef5fc327c1"
      },
      "execution_count": null,
      "outputs": [
        {
          "output_type": "stream",
          "name": "stdout",
          "text": [
            "  Hola Delsin \n",
            "\n",
            "Hola Delsin\n",
            "\n",
            " la Del\n"
          ]
        }
      ]
    },
    {
      "cell_type": "markdown",
      "source": [
        "## METODO RSTRIP E LSTRIP"
      ],
      "metadata": {
        "id": "vJKghjZw41ev"
      }
    },
    {
      "cell_type": "markdown",
      "source": [
        "* rstrip, se utilia unicamente para eliminar caracteres especificos al final de una cadena \n",
        "\n",
        "   * Sintaxis: cadena = cadena.rstrip()\n",
        "\n",
        "* Lstrip, se utiliza unicamente para eliminar caracteres especificos al inicio de una cadena de caracteres\n",
        "\n",
        "   * Sintaxis: cadena = cadena.lstrip()\n",
        "\n",
        "* Si no se especifica algun caracter a eliminar solo eliminara espacios en blanco y saltos de linea "
      ],
      "metadata": {
        "id": "DYEOIEAr5ocd"
      }
    },
    {
      "cell_type": "code",
      "source": [
        "# Utilizacion del METODO RSTRIP\n",
        "\n",
        "cadena = \" Hola Delsin \"\n",
        "print(cadena)\n",
        "\n",
        "# Ejemplo 1\n",
        "\n",
        "cadena = cadena.rstrip()\n",
        "print(cadena)\n",
        "\n",
        "# Ejemplo 2\n",
        "\n",
        "cadena = cadena.rstrip(\" nH\") # Solo elimina caracteres al final de la cadena de caracteres \n",
        "\n",
        "print(cadena)"
      ],
      "metadata": {
        "colab": {
          "base_uri": "https://localhost:8080/"
        },
        "id": "6FPQWK1j46NQ",
        "outputId": "03552282-62c9-4b2f-e95d-ce31cc2b154b"
      },
      "execution_count": null,
      "outputs": [
        {
          "output_type": "stream",
          "name": "stdout",
          "text": [
            " Hola Delsin \n",
            " Hola Delsin\n",
            " Hola Delsi\n"
          ]
        }
      ]
    },
    {
      "cell_type": "code",
      "source": [
        "# Utilizacion del METODO LSTRIP\n",
        "\n",
        "cadena = \"\\t Hola Delsin \\n\"\n",
        "print(cadena)\n",
        "\n",
        "# Ejemplo 1\n",
        "\n",
        "cadena = cadena.lstrip()\n",
        "print(cadena)\n",
        "\n",
        "\n",
        "# Ejemplo 2\n",
        "\n",
        "cadena = cadena.lstrip(\" nH\")\n",
        "print(cadena)\n",
        "\n"
      ],
      "metadata": {
        "colab": {
          "base_uri": "https://localhost:8080/"
        },
        "id": "nMoxLsFk7Aq8",
        "outputId": "916bd178-e09e-4195-c85e-96adabd61a44"
      },
      "execution_count": null,
      "outputs": [
        {
          "output_type": "stream",
          "name": "stdout",
          "text": [
            "\t Hola Delsin \n",
            "\n",
            "Hola Delsin \n",
            "\n",
            "ola Delsin \n",
            "\n"
          ]
        }
      ]
    },
    {
      "cell_type": "markdown",
      "source": [
        "## METODOS ISTITLE Y TITLE"
      ],
      "metadata": {
        "id": "g9QEGAgM9pcm"
      }
    },
    {
      "cell_type": "markdown",
      "source": [
        "* istitle: Se usa para identificar si la cadena de caracteres tiene la primera letra en mayuscula y el resto en minuscula\n",
        "   * Sintaxis: nombre_variable,istitle()\n",
        "   * Retorna : True or False\n",
        "* title: Se usa para convertir la primera letra de cada palabra en mayusculas y a su vez convertir el resto de letras que componen cada palabra de un string en minusculas \n",
        "   * Sintaxis: nombre_variable.title()\n",
        "   * Retorna: Convierte la primera letra de cada palabra en mayuscula y el resto en minuscula.\n"
      ],
      "metadata": {
        "id": "gzo1PUQQ7OyR"
      }
    },
    {
      "cell_type": "code",
      "source": [
        "# Aplicado EL Metodo istitle y title\n",
        "\n",
        "first_name = input(\"Nombre: \")\n",
        "last_name = input(\"Apellido: \")\n",
        "full_name = f\"{first_name} {last_name}\"\n",
        "\n",
        "print()\n",
        "print(f\"¿El formato del metodo title() se ha aplicado? : {full_name.istitle()}\")\n",
        "print(f\"¿Aplicando el metodo title(): {full_name.title()}\")\n",
        "print(f\"Volvemos a imprimir el nombre: {full_name}\")\n",
        "\n",
        "print()\n",
        "full_name = full_name.title()\n",
        "print(f\"¿El formato del metodo title() se ha aplicado?: {full_name.istitle()}\")\n",
        "print(f\"Se ha aplicado el metodo title() de manera permanente: {full_name} \")\n",
        "\n"
      ],
      "metadata": {
        "colab": {
          "base_uri": "https://localhost:8080/"
        },
        "id": "uSG2hY087SFE",
        "outputId": "5671f10b-7f79-4f1d-8607-726f01e89743"
      },
      "execution_count": null,
      "outputs": [
        {
          "output_type": "stream",
          "name": "stdout",
          "text": [
            "Nombre: delsiN\n",
            "Apellido: curiOsO\n",
            "\n",
            "¿El formato del metodo title() se ha aplicado? : False\n",
            "¿Aplicando el metodo title(): Delsin Curioso\n",
            "Volvemos a imprimir el nombre: delsiN curiOsO\n",
            "\n",
            "¿El formato del metodo title() se ha aplicado?: True\n",
            "Se ha aplicado el metodo title() de manera permanente: Delsin Curioso \n"
          ]
        }
      ]
    },
    {
      "cell_type": "markdown",
      "source": [
        "## METODOS ISLOWER Y LOWER, ISUPPER Y UPPER"
      ],
      "metadata": {
        "id": "bnURx4OA-kw4"
      }
    },
    {
      "cell_type": "markdown",
      "source": [
        "* islower: Se utiliza para identificar si todas las letras de una cadena de caracteres se encuentra en minusculas. \n",
        "\n",
        "  * Su Sintaxis : variable.islower() \n",
        "  * Retorna : true or false\n",
        "\n",
        "* lower: Se utiliza para convertir todas las letras en minusculas. \n",
        "  * Su sintaxis : variable.lower()\n",
        "  * Retorna : la correcion de toda la cadena a minusculas\n",
        "\n",
        "* isupper : Se utiliza para identificar si todas las letras de una cadena de caracteres se encuentra en mayuscula.\n",
        "\n",
        "  * Sintaxis: variable.isupper()\n",
        "  * Retorna: True or False\n",
        "\n",
        "\n",
        "* upper: Se utiliza para convertir todas las letras en mayuscula\n",
        "\n",
        "  * Sintaxis: variable.upper()\n",
        "  * Retorna: Convierte toda la cadena a mayuscula\n"
      ],
      "metadata": {
        "id": "eV1cVwtbC_WB"
      }
    },
    {
      "cell_type": "code",
      "source": [
        "# Utilizado el metodo islower y lower\n",
        "\n",
        "string = input(\"Introduce un string: \")\n",
        "\n",
        "print(f\"\\n¿Todas las letras estan en minusculas?: {string.islower()}\")\n",
        "\n",
        "string = string.lower() # Estamos convirtiendo permanentemente todas las letras de la variable en minuscula\n",
        "\n",
        "print(f\"Strings en minusculas: {string}\") # debe imprimir las letras en minuscula, ya que premiamente hicimos la conversion de la variable\n",
        "\n",
        "print(f\"\\n¿Todas las letras estan en mayusculas?: {string.isupper()}\")\n",
        "\n",
        "print(f\"Strings en mayusculas: {string.upper()}\") # No estamos modificando la variable. solo estamos solicitando que se muestre en mayusculas\n",
        "\n",
        "print(f\"\\nString original: {string}\") # El string original esta en minusculas porque hemos modificado la variable en la linea 3\n"
      ],
      "metadata": {
        "id": "Zn6gZQblG474",
        "colab": {
          "base_uri": "https://localhost:8080/"
        },
        "outputId": "f65b2d3b-f307-4726-fbed-a05e468d24c5"
      },
      "execution_count": null,
      "outputs": [
        {
          "output_type": "stream",
          "name": "stdout",
          "text": [
            "Introduce un string: DelsiN\n",
            "\n",
            "¿Todas las letras estan en minusculas?: False\n",
            "Strings en minusculas: delsin\n",
            "\n",
            "¿Todas las letras estan en mayusculas?: False\n",
            "Strings en mayusculas: DELSIN\n",
            "\n",
            "String original: delsin\n"
          ]
        }
      ]
    },
    {
      "cell_type": "markdown",
      "source": [
        "## METODO SWAPCASE"
      ],
      "metadata": {
        "id": "vT7hgVDcJRnU"
      }
    },
    {
      "cell_type": "markdown",
      "source": [
        "* Swapcase: Nos permite invertir todas las letras de una cadena de caracteres, donde las mayusculas se convierten en minusculas y viceversa.\n",
        "   \n",
        "   * Sintaxis: variable.swapcase()"
      ],
      "metadata": {
        "id": "g6zXB9SnJabZ"
      }
    },
    {
      "cell_type": "code",
      "source": [
        "# Utilizando el metodo swapcase()\n",
        "\n",
        "texto = \"lA gEEKIPEDIA\"\n",
        "print(f\"\\nLa variable original es: {texto}\")\n",
        "texto = texto.swapcase() # Modificamos permanentemente la variable\n",
        "print(f\"\\nla conversion de la variable es: {texto}\")"
      ],
      "metadata": {
        "colab": {
          "base_uri": "https://localhost:8080/"
        },
        "id": "wdS9SSC_KnUC",
        "outputId": "abd2f1c5-ee0d-4dce-931b-f964873b1087"
      },
      "execution_count": null,
      "outputs": [
        {
          "output_type": "stream",
          "name": "stdout",
          "text": [
            "\n",
            "La variable original es: lA gEEKIPEDIA\n",
            "\n",
            "la conversion de la variable es: La Geekipedia\n"
          ]
        }
      ]
    },
    {
      "cell_type": "code",
      "source": [
        "# Utilizando el metodo de Ernesto\n",
        "\n",
        "txt_lower_upper = \"lA gEEKIPEDIA\"\n",
        "print(txt_lower_upper.swapcase()) # Solamente estamos pidiendo que invierta la cadena de caracteres, mas no que lo modifique permanentemente\n",
        "\n",
        "txt_upper = \"CADENA DE MAYUSCULAS\"\n",
        "print(txt_upper.swapcase())\n",
        "\n",
        "txt_lower = \"cadena de minusculas\"\n",
        "print(txt_lower.swapcase())\n",
        "\n",
        "txt_number = \"1234!-\"\n",
        "print(txt_number.swapcase())\n",
        "\n",
        "print()\n",
        "print(txt_lower_upper) # Variables originales\n",
        "print(txt_upper)\n",
        "print(txt_lower)\n",
        "print(txt_number)\n"
      ],
      "metadata": {
        "colab": {
          "base_uri": "https://localhost:8080/"
        },
        "id": "5wKocspjLdSW",
        "outputId": "b32016da-b658-456f-8e6c-e14bf9adb6a2"
      },
      "execution_count": null,
      "outputs": [
        {
          "output_type": "stream",
          "name": "stdout",
          "text": [
            "La Geekipedia\n",
            "cadena de mayusculas\n",
            "CADENA DE MINUSCULAS\n",
            "1234!-\n",
            "\n",
            "lA gEEKIPEDIA\n",
            "CADENA DE MAYUSCULAS\n",
            "cadena de minusculas\n",
            "1234!-\n"
          ]
        }
      ]
    },
    {
      "cell_type": "markdown",
      "source": [
        "## METODO CAPITALIZE"
      ],
      "metadata": {
        "id": "EBWlmbnvQqIS"
      }
    },
    {
      "cell_type": "markdown",
      "source": [
        "* Capitalize: Se usa para convertir el primer caracter de un string en mayuscula, y a su vez, todos los restantes en minusculas.\n",
        "\n",
        "   * Sintaxis: nombre_variable.capitalize()\n",
        "\n",
        "Nota: Este metodo se escribe completamente en minusculas."
      ],
      "metadata": {
        "id": "sVRywqxuRFGJ"
      }
    },
    {
      "cell_type": "code",
      "source": [
        "# Utilizando el metodo capitalize\n",
        "\n",
        "string = \"el Viaje Es La rEcompensa\"\n",
        "print(f\"Antes de capitalize(): {string}\")\n",
        "string = string.capitalize() # Modificando la variable permanentemente\n",
        "print(f\"Despues de capitalize(): {string}\")"
      ],
      "metadata": {
        "colab": {
          "base_uri": "https://localhost:8080/"
        },
        "id": "j3RZivRGRoIm",
        "outputId": "55dbf275-e71a-4ddc-caa7-0105a05b3ca0"
      },
      "execution_count": null,
      "outputs": [
        {
          "output_type": "stream",
          "name": "stdout",
          "text": [
            "Antes de capitalize(): el Viaje Es La rEcompensa\n",
            "Despues de capitalize(): El viaje es la recompensa\n"
          ]
        }
      ]
    },
    {
      "cell_type": "code",
      "source": [
        "# Practicando con el metodo capitalize\n",
        "\n",
        "nombre = input(\"Introduce tu nombre: \")\n",
        "apellido = input(\"Introduce tu apellido: \")\n",
        "print(f\"\\nTu nombre completo es: {nombre.capitalize()} {apellido.capitalize()}\") # Solomente solicitamos la conversion, mas no la modificacion permanente\n",
        "print(f\"\\nEl nombre completo introducido es: {nombre} {apellido}\")"
      ],
      "metadata": {
        "colab": {
          "base_uri": "https://localhost:8080/"
        },
        "id": "TfuY9vePTl2C",
        "outputId": "b635c996-dca1-4f8e-e460-acc0364c38a4"
      },
      "execution_count": null,
      "outputs": [
        {
          "output_type": "stream",
          "name": "stdout",
          "text": [
            "Introduce tu nombre: delsin\n",
            "Introduce tu apellido: curiOsO\n",
            "\n",
            "Tu nombre completo es: Delsin Curioso\n",
            "\n",
            "El nombre completo introducido es: delsin curiOsO\n"
          ]
        }
      ]
    },
    {
      "cell_type": "markdown",
      "source": [
        "## METODO CENTER, LJUST Y RJUST"
      ],
      "metadata": {
        "id": "p317fUXGU6S_"
      }
    },
    {
      "cell_type": "markdown",
      "source": [
        "* Sirve para alinear el texto que imprimos en pantalla de acuerdo a nuestras necesidades, es decir, podemos alinear una impresion en pantalla a la izquierda, a la derecha o al centro.\n",
        "\n",
        "* Center: Nos permite centrar un string, añadiendo espacios o caracteres segun nosotros lo indiquemos \n",
        "   \n",
        "   * Sintaxis: nombre_variable.center(n, \"caracter\")\n",
        "\n",
        "* Ljust: Nos permite alinear un string a la izquierda, añadiendo espacios o caracteres segun nosotros lo indiquemos, unicamente al final del string.\n",
        "   * Sintaxis: nombre_variable.ljust(n, \"caracter\")\n",
        "\n",
        "* Rjust: Nos permite alinear un string a la derecha, añadiendo espacios o caracteres segun nosotros lo indiquemos, unicamente al inicio del string.\n",
        "\n",
        "* NOTA: Este metodo trabaja con argumentos. los argumentos se colocan en el medio de los parentesis.\n",
        "\n",
        "     * Se puede trabajar con dos argumentos de manera simultanea o solo con uno.\n",
        "     * El primer argumento para su ejecucion es un valor entero(numero)\n",
        "     * El numero debe ser mayor al string que esta dentro de mi variable\n",
        "     * En el uso del segundo argumento se debe colocar una , y \"\" y adentro \n",
        "      de las comillas color solamente un caracter. "
      ],
      "metadata": {
        "id": "YR4juOjEVC3h"
      }
    },
    {
      "cell_type": "code",
      "source": [
        "# UTILIZANDO EL METODO CENTER, LJUST Y RJUST\n",
        "\n",
        "string = \"Menu\"\n",
        "\n",
        "# Solo estamos imprimiendo el contenido de la variable\n",
        "\n",
        "print(\"\\n Metodo con espacios \\n\".upper())\n",
        "print(string.center(10)) # Usando un solo argumento \n",
        "print(string.ljust(10))\n",
        "print(string.rjust(10))\n",
        "\n",
        "print(string.center(10, \"=\")) # Usando dos argumentos\n",
        "print(string.ljust(10, \"=\"))\n",
        "print(string.rjust(10, \"=\"))\n",
        "\n",
        "# Conversion permanente de la variable\n",
        "\n",
        "print()\n",
        "string = string.center(10,\"=\") # Modifica permanentemente la variable original. Toma el contenido, lo centra y lo guarda dentro de la misma variable\n",
        "\n",
        "print(string)"
      ],
      "metadata": {
        "colab": {
          "base_uri": "https://localhost:8080/"
        },
        "id": "L7vt3AMK3S8q",
        "outputId": "8f2e354a-97be-4a8c-c9ad-71e6a4a9093f"
      },
      "execution_count": null,
      "outputs": [
        {
          "output_type": "stream",
          "name": "stdout",
          "text": [
            "\n",
            " METODO CON ESPACIOS \n",
            "\n",
            "   Menu   \n",
            "Menu      \n",
            "      Menu\n",
            "===Menu===\n",
            "Menu======\n",
            "======Menu\n",
            "\n",
            "===Menu===\n"
          ]
        }
      ]
    },
    {
      "cell_type": "code",
      "source": [
        "# PRACTICANDO EL METODO CENTER\n",
        "\n",
        "string = \"Menu\" # el argumento(numero) debe ser mayor que la cadena de caracteres de la variable\n",
        "string.center(10, \"-\") # Solo coloca espacios en blanco, respetando la longitud (numero) que colocamos"
      ],
      "metadata": {
        "colab": {
          "base_uri": "https://localhost:8080/",
          "height": 36
        },
        "id": "B88Ogi4Uyl59",
        "outputId": "c34d6dc7-377b-45dc-8e70-be2694862b6a"
      },
      "execution_count": null,
      "outputs": [
        {
          "output_type": "execute_result",
          "data": {
            "text/plain": [
              "'---Menu---'"
            ],
            "application/vnd.google.colaboratory.intrinsic+json": {
              "type": "string"
            }
          },
          "metadata": {},
          "execution_count": 23
        }
      ]
    },
    {
      "cell_type": "code",
      "source": [
        "# PRACTICANDO EL METODO LJUST\n",
        "\n",
        "string = \"Menu\"\n",
        "string.ljust(10, \".\")"
      ],
      "metadata": {
        "colab": {
          "base_uri": "https://localhost:8080/",
          "height": 36
        },
        "id": "asYNsmTv2Mj_",
        "outputId": "740b3eb3-6fc8-4697-cb4b-e2dc80f7bbd7"
      },
      "execution_count": null,
      "outputs": [
        {
          "output_type": "execute_result",
          "data": {
            "text/plain": [
              "'Menu......'"
            ],
            "application/vnd.google.colaboratory.intrinsic+json": {
              "type": "string"
            }
          },
          "metadata": {},
          "execution_count": 21
        }
      ]
    },
    {
      "cell_type": "code",
      "source": [
        "# PRACTICANDO EL METODO RJUST\n",
        "\n",
        "string = \"Menu\"\n",
        "string.rjust(10, \"*\")"
      ],
      "metadata": {
        "colab": {
          "base_uri": "https://localhost:8080/",
          "height": 36
        },
        "id": "gM4o0OlY2YdO",
        "outputId": "1d4ab237-6e1f-4b48-a9e3-5356f925a234"
      },
      "execution_count": null,
      "outputs": [
        {
          "output_type": "execute_result",
          "data": {
            "text/plain": [
              "'******Menu'"
            ],
            "application/vnd.google.colaboratory.intrinsic+json": {
              "type": "string"
            }
          },
          "metadata": {},
          "execution_count": 24
        }
      ]
    },
    {
      "cell_type": "markdown",
      "source": [
        "## METODO COUNT"
      ],
      "metadata": {
        "id": "C7VTwyCT6dKn"
      }
    },
    {
      "cell_type": "code",
      "source": [],
      "metadata": {
        "id": "awdur68G6fVA"
      },
      "execution_count": null,
      "outputs": []
    },
    {
      "cell_type": "markdown",
      "source": [
        "# PYTHON BASICO CON ERNESTO"
      ],
      "metadata": {
        "id": "2hLBXpJY7vw7"
      }
    }
  ],
  "metadata": {
    "colab": {
      "collapsed_sections": [
        "9DoWkVFokvW4",
        "34Ce6X5Trtvw",
        "R7fcI2aFt2rW",
        "7E2MF8DNz36_",
        "ID8thcEx0jDr",
        "KnVSXX_-IkQS",
        "9gr1gQxeO_aM",
        "S4azo5bnp4cX",
        "G7jrjib6ns9u",
        "EMUP6hcfieL6",
        "CQErXCiJoyLD",
        "M5oJWA4jPDKB",
        "1H4XcNZoVjwJ",
        "ZP8zmDXsIW5B",
        "1H9U5CVqDBGa",
        "elhJFH4h4cpu",
        "6FvEzHGYAS62",
        "OUxHQAL01KQe",
        "iuP6IRlcD_sC",
        "ZW8euV1ZJWvW",
        "XbSR5tQNRccP",
        "HAbOCGeNUlKX",
        "VAAbB-Zcqq42",
        "MFLwzlmoVBoY",
        "vJKghjZw41ev",
        "g9QEGAgM9pcm",
        "bnURx4OA-kw4",
        "vT7hgVDcJRnU",
        "EBWlmbnvQqIS",
        "p317fUXGU6S_"
      ],
      "provenance": [],
      "toc_visible": true,
      "include_colab_link": true
    },
    "kernelspec": {
      "display_name": "Python 3",
      "name": "python3"
    },
    "language_info": {
      "name": "python"
    }
  },
  "nbformat": 4,
  "nbformat_minor": 0
}